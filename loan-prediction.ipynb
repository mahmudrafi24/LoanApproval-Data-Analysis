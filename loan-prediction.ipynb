{
 "cells": [
  {
   "cell_type": "code",
   "execution_count": 1,
   "id": "540ddec4",
   "metadata": {
    "_cell_guid": "b1076dfc-b9ad-4769-8c92-a6c4dae69d19",
    "_uuid": "8f2839f25d086af736a60e9eeb907d3b93b6e0e5",
    "execution": {
     "iopub.execute_input": "2023-10-16T06:41:10.224797Z",
     "iopub.status.busy": "2023-10-16T06:41:10.224028Z",
     "iopub.status.idle": "2023-10-16T06:41:12.111237Z",
     "shell.execute_reply": "2023-10-16T06:41:12.110057Z"
    },
    "papermill": {
     "duration": 1.901578,
     "end_time": "2023-10-16T06:41:12.113700",
     "exception": false,
     "start_time": "2023-10-16T06:41:10.212122",
     "status": "completed"
    },
    "tags": []
   },
   "outputs": [],
   "source": [
    "import pandas as pd\n",
    "import numpy as np\n",
    "import matplotlib.pyplot as plt\n",
    "import seaborn as sns"
   ]
  },
  {
   "cell_type": "code",
   "execution_count": 2,
   "id": "05d03e25",
   "metadata": {
    "execution": {
     "iopub.execute_input": "2023-10-16T06:41:12.135997Z",
     "iopub.status.busy": "2023-10-16T06:41:12.135082Z",
     "iopub.status.idle": "2023-10-16T06:41:12.186953Z",
     "shell.execute_reply": "2023-10-16T06:41:12.186233Z"
    },
    "papermill": {
     "duration": 0.064908,
     "end_time": "2023-10-16T06:41:12.188885",
     "exception": false,
     "start_time": "2023-10-16T06:41:12.123977",
     "status": "completed"
    },
    "tags": []
   },
   "outputs": [
    {
     "data": {
      "text/html": [
       "<div>\n",
       "<style scoped>\n",
       "    .dataframe tbody tr th:only-of-type {\n",
       "        vertical-align: middle;\n",
       "    }\n",
       "\n",
       "    .dataframe tbody tr th {\n",
       "        vertical-align: top;\n",
       "    }\n",
       "\n",
       "    .dataframe thead th {\n",
       "        text-align: right;\n",
       "    }\n",
       "</style>\n",
       "<table border=\"1\" class=\"dataframe\">\n",
       "  <thead>\n",
       "    <tr style=\"text-align: right;\">\n",
       "      <th></th>\n",
       "      <th>loan_id</th>\n",
       "      <th>no_of_dependents</th>\n",
       "      <th>education</th>\n",
       "      <th>self_employed</th>\n",
       "      <th>income_annum</th>\n",
       "      <th>loan_amount</th>\n",
       "      <th>loan_term</th>\n",
       "      <th>cibil_score</th>\n",
       "      <th>residential_assets_value</th>\n",
       "      <th>commercial_assets_value</th>\n",
       "      <th>luxury_assets_value</th>\n",
       "      <th>bank_asset_value</th>\n",
       "      <th>loan_status</th>\n",
       "    </tr>\n",
       "  </thead>\n",
       "  <tbody>\n",
       "    <tr>\n",
       "      <th>0</th>\n",
       "      <td>1</td>\n",
       "      <td>2</td>\n",
       "      <td>Graduate</td>\n",
       "      <td>No</td>\n",
       "      <td>9600000</td>\n",
       "      <td>29900000</td>\n",
       "      <td>12</td>\n",
       "      <td>778</td>\n",
       "      <td>2400000</td>\n",
       "      <td>17600000</td>\n",
       "      <td>22700000</td>\n",
       "      <td>8000000</td>\n",
       "      <td>Approved</td>\n",
       "    </tr>\n",
       "    <tr>\n",
       "      <th>1</th>\n",
       "      <td>2</td>\n",
       "      <td>0</td>\n",
       "      <td>Not Graduate</td>\n",
       "      <td>Yes</td>\n",
       "      <td>4100000</td>\n",
       "      <td>12200000</td>\n",
       "      <td>8</td>\n",
       "      <td>417</td>\n",
       "      <td>2700000</td>\n",
       "      <td>2200000</td>\n",
       "      <td>8800000</td>\n",
       "      <td>3300000</td>\n",
       "      <td>Rejected</td>\n",
       "    </tr>\n",
       "    <tr>\n",
       "      <th>2</th>\n",
       "      <td>3</td>\n",
       "      <td>3</td>\n",
       "      <td>Graduate</td>\n",
       "      <td>No</td>\n",
       "      <td>9100000</td>\n",
       "      <td>29700000</td>\n",
       "      <td>20</td>\n",
       "      <td>506</td>\n",
       "      <td>7100000</td>\n",
       "      <td>4500000</td>\n",
       "      <td>33300000</td>\n",
       "      <td>12800000</td>\n",
       "      <td>Rejected</td>\n",
       "    </tr>\n",
       "    <tr>\n",
       "      <th>3</th>\n",
       "      <td>4</td>\n",
       "      <td>3</td>\n",
       "      <td>Graduate</td>\n",
       "      <td>No</td>\n",
       "      <td>8200000</td>\n",
       "      <td>30700000</td>\n",
       "      <td>8</td>\n",
       "      <td>467</td>\n",
       "      <td>18200000</td>\n",
       "      <td>3300000</td>\n",
       "      <td>23300000</td>\n",
       "      <td>7900000</td>\n",
       "      <td>Rejected</td>\n",
       "    </tr>\n",
       "    <tr>\n",
       "      <th>4</th>\n",
       "      <td>5</td>\n",
       "      <td>5</td>\n",
       "      <td>Not Graduate</td>\n",
       "      <td>Yes</td>\n",
       "      <td>9800000</td>\n",
       "      <td>24200000</td>\n",
       "      <td>20</td>\n",
       "      <td>382</td>\n",
       "      <td>12400000</td>\n",
       "      <td>8200000</td>\n",
       "      <td>29400000</td>\n",
       "      <td>5000000</td>\n",
       "      <td>Rejected</td>\n",
       "    </tr>\n",
       "    <tr>\n",
       "      <th>5</th>\n",
       "      <td>6</td>\n",
       "      <td>0</td>\n",
       "      <td>Graduate</td>\n",
       "      <td>Yes</td>\n",
       "      <td>4800000</td>\n",
       "      <td>13500000</td>\n",
       "      <td>10</td>\n",
       "      <td>319</td>\n",
       "      <td>6800000</td>\n",
       "      <td>8300000</td>\n",
       "      <td>13700000</td>\n",
       "      <td>5100000</td>\n",
       "      <td>Rejected</td>\n",
       "    </tr>\n",
       "    <tr>\n",
       "      <th>6</th>\n",
       "      <td>7</td>\n",
       "      <td>5</td>\n",
       "      <td>Graduate</td>\n",
       "      <td>No</td>\n",
       "      <td>8700000</td>\n",
       "      <td>33000000</td>\n",
       "      <td>4</td>\n",
       "      <td>678</td>\n",
       "      <td>22500000</td>\n",
       "      <td>14800000</td>\n",
       "      <td>29200000</td>\n",
       "      <td>4300000</td>\n",
       "      <td>Approved</td>\n",
       "    </tr>\n",
       "    <tr>\n",
       "      <th>7</th>\n",
       "      <td>8</td>\n",
       "      <td>2</td>\n",
       "      <td>Graduate</td>\n",
       "      <td>Yes</td>\n",
       "      <td>5700000</td>\n",
       "      <td>15000000</td>\n",
       "      <td>20</td>\n",
       "      <td>382</td>\n",
       "      <td>13200000</td>\n",
       "      <td>5700000</td>\n",
       "      <td>11800000</td>\n",
       "      <td>6000000</td>\n",
       "      <td>Rejected</td>\n",
       "    </tr>\n",
       "    <tr>\n",
       "      <th>8</th>\n",
       "      <td>9</td>\n",
       "      <td>0</td>\n",
       "      <td>Graduate</td>\n",
       "      <td>Yes</td>\n",
       "      <td>800000</td>\n",
       "      <td>2200000</td>\n",
       "      <td>20</td>\n",
       "      <td>782</td>\n",
       "      <td>1300000</td>\n",
       "      <td>800000</td>\n",
       "      <td>2800000</td>\n",
       "      <td>600000</td>\n",
       "      <td>Approved</td>\n",
       "    </tr>\n",
       "    <tr>\n",
       "      <th>9</th>\n",
       "      <td>10</td>\n",
       "      <td>5</td>\n",
       "      <td>Not Graduate</td>\n",
       "      <td>No</td>\n",
       "      <td>1100000</td>\n",
       "      <td>4300000</td>\n",
       "      <td>10</td>\n",
       "      <td>388</td>\n",
       "      <td>3200000</td>\n",
       "      <td>1400000</td>\n",
       "      <td>3300000</td>\n",
       "      <td>1600000</td>\n",
       "      <td>Rejected</td>\n",
       "    </tr>\n",
       "  </tbody>\n",
       "</table>\n",
       "</div>"
      ],
      "text/plain": [
       "   loan_id   no_of_dependents      education  self_employed   income_annum  \\\n",
       "0        1                  2       Graduate             No        9600000   \n",
       "1        2                  0   Not Graduate            Yes        4100000   \n",
       "2        3                  3       Graduate             No        9100000   \n",
       "3        4                  3       Graduate             No        8200000   \n",
       "4        5                  5   Not Graduate            Yes        9800000   \n",
       "5        6                  0       Graduate            Yes        4800000   \n",
       "6        7                  5       Graduate             No        8700000   \n",
       "7        8                  2       Graduate            Yes        5700000   \n",
       "8        9                  0       Graduate            Yes         800000   \n",
       "9       10                  5   Not Graduate             No        1100000   \n",
       "\n",
       "    loan_amount   loan_term   cibil_score   residential_assets_value  \\\n",
       "0      29900000          12           778                    2400000   \n",
       "1      12200000           8           417                    2700000   \n",
       "2      29700000          20           506                    7100000   \n",
       "3      30700000           8           467                   18200000   \n",
       "4      24200000          20           382                   12400000   \n",
       "5      13500000          10           319                    6800000   \n",
       "6      33000000           4           678                   22500000   \n",
       "7      15000000          20           382                   13200000   \n",
       "8       2200000          20           782                    1300000   \n",
       "9       4300000          10           388                    3200000   \n",
       "\n",
       "    commercial_assets_value   luxury_assets_value   bank_asset_value  \\\n",
       "0                  17600000              22700000            8000000   \n",
       "1                   2200000               8800000            3300000   \n",
       "2                   4500000              33300000           12800000   \n",
       "3                   3300000              23300000            7900000   \n",
       "4                   8200000              29400000            5000000   \n",
       "5                   8300000              13700000            5100000   \n",
       "6                  14800000              29200000            4300000   \n",
       "7                   5700000              11800000            6000000   \n",
       "8                    800000               2800000             600000   \n",
       "9                   1400000               3300000            1600000   \n",
       "\n",
       "   loan_status  \n",
       "0     Approved  \n",
       "1     Rejected  \n",
       "2     Rejected  \n",
       "3     Rejected  \n",
       "4     Rejected  \n",
       "5     Rejected  \n",
       "6     Approved  \n",
       "7     Rejected  \n",
       "8     Approved  \n",
       "9     Rejected  "
      ]
     },
     "execution_count": 2,
     "metadata": {},
     "output_type": "execute_result"
    }
   ],
   "source": [
    "df = pd.read_csv('/kaggle/input/loan-approval-prediction-dataset/loan_approval_dataset.csv')\n",
    "df[:10]"
   ]
  },
  {
   "cell_type": "code",
   "execution_count": 3,
   "id": "e7f7af74",
   "metadata": {
    "execution": {
     "iopub.execute_input": "2023-10-16T06:41:12.212585Z",
     "iopub.status.busy": "2023-10-16T06:41:12.211562Z",
     "iopub.status.idle": "2023-10-16T06:41:12.217020Z",
     "shell.execute_reply": "2023-10-16T06:41:12.216284Z"
    },
    "papermill": {
     "duration": 0.01921,
     "end_time": "2023-10-16T06:41:12.218685",
     "exception": false,
     "start_time": "2023-10-16T06:41:12.199475",
     "status": "completed"
    },
    "tags": []
   },
   "outputs": [
    {
     "data": {
      "text/plain": [
       "(4269, 13)"
      ]
     },
     "execution_count": 3,
     "metadata": {},
     "output_type": "execute_result"
    }
   ],
   "source": [
    "df.shape"
   ]
  },
  {
   "cell_type": "code",
   "execution_count": 4,
   "id": "3b7e3ff8",
   "metadata": {
    "execution": {
     "iopub.execute_input": "2023-10-16T06:41:12.242142Z",
     "iopub.status.busy": "2023-10-16T06:41:12.241037Z",
     "iopub.status.idle": "2023-10-16T06:41:12.270650Z",
     "shell.execute_reply": "2023-10-16T06:41:12.269104Z"
    },
    "papermill": {
     "duration": 0.044022,
     "end_time": "2023-10-16T06:41:12.273382",
     "exception": false,
     "start_time": "2023-10-16T06:41:12.229360",
     "status": "completed"
    },
    "tags": []
   },
   "outputs": [
    {
     "name": "stdout",
     "output_type": "stream",
     "text": [
      "<class 'pandas.core.frame.DataFrame'>\n",
      "RangeIndex: 4269 entries, 0 to 4268\n",
      "Data columns (total 13 columns):\n",
      " #   Column                     Non-Null Count  Dtype \n",
      "---  ------                     --------------  ----- \n",
      " 0   loan_id                    4269 non-null   int64 \n",
      " 1    no_of_dependents          4269 non-null   int64 \n",
      " 2    education                 4269 non-null   object\n",
      " 3    self_employed             4269 non-null   object\n",
      " 4    income_annum              4269 non-null   int64 \n",
      " 5    loan_amount               4269 non-null   int64 \n",
      " 6    loan_term                 4269 non-null   int64 \n",
      " 7    cibil_score               4269 non-null   int64 \n",
      " 8    residential_assets_value  4269 non-null   int64 \n",
      " 9    commercial_assets_value   4269 non-null   int64 \n",
      " 10   luxury_assets_value       4269 non-null   int64 \n",
      " 11   bank_asset_value          4269 non-null   int64 \n",
      " 12   loan_status               4269 non-null   object\n",
      "dtypes: int64(10), object(3)\n",
      "memory usage: 433.7+ KB\n"
     ]
    }
   ],
   "source": [
    "df.info()"
   ]
  },
  {
   "cell_type": "code",
   "execution_count": 5,
   "id": "8af2d859",
   "metadata": {
    "execution": {
     "iopub.execute_input": "2023-10-16T06:41:12.297134Z",
     "iopub.status.busy": "2023-10-16T06:41:12.296363Z",
     "iopub.status.idle": "2023-10-16T06:41:12.336400Z",
     "shell.execute_reply": "2023-10-16T06:41:12.335214Z"
    },
    "papermill": {
     "duration": 0.054443,
     "end_time": "2023-10-16T06:41:12.338722",
     "exception": false,
     "start_time": "2023-10-16T06:41:12.284279",
     "status": "completed"
    },
    "tags": []
   },
   "outputs": [
    {
     "data": {
      "text/html": [
       "<div>\n",
       "<style scoped>\n",
       "    .dataframe tbody tr th:only-of-type {\n",
       "        vertical-align: middle;\n",
       "    }\n",
       "\n",
       "    .dataframe tbody tr th {\n",
       "        vertical-align: top;\n",
       "    }\n",
       "\n",
       "    .dataframe thead th {\n",
       "        text-align: right;\n",
       "    }\n",
       "</style>\n",
       "<table border=\"1\" class=\"dataframe\">\n",
       "  <thead>\n",
       "    <tr style=\"text-align: right;\">\n",
       "      <th></th>\n",
       "      <th>loan_id</th>\n",
       "      <th>no_of_dependents</th>\n",
       "      <th>income_annum</th>\n",
       "      <th>loan_amount</th>\n",
       "      <th>loan_term</th>\n",
       "      <th>cibil_score</th>\n",
       "      <th>residential_assets_value</th>\n",
       "      <th>commercial_assets_value</th>\n",
       "      <th>luxury_assets_value</th>\n",
       "      <th>bank_asset_value</th>\n",
       "    </tr>\n",
       "  </thead>\n",
       "  <tbody>\n",
       "    <tr>\n",
       "      <th>count</th>\n",
       "      <td>4269.000000</td>\n",
       "      <td>4269.000000</td>\n",
       "      <td>4.269000e+03</td>\n",
       "      <td>4.269000e+03</td>\n",
       "      <td>4269.000000</td>\n",
       "      <td>4269.000000</td>\n",
       "      <td>4.269000e+03</td>\n",
       "      <td>4.269000e+03</td>\n",
       "      <td>4.269000e+03</td>\n",
       "      <td>4.269000e+03</td>\n",
       "    </tr>\n",
       "    <tr>\n",
       "      <th>mean</th>\n",
       "      <td>2135.000000</td>\n",
       "      <td>2.498712</td>\n",
       "      <td>5.059124e+06</td>\n",
       "      <td>1.513345e+07</td>\n",
       "      <td>10.900445</td>\n",
       "      <td>599.936051</td>\n",
       "      <td>7.472617e+06</td>\n",
       "      <td>4.973155e+06</td>\n",
       "      <td>1.512631e+07</td>\n",
       "      <td>4.976692e+06</td>\n",
       "    </tr>\n",
       "    <tr>\n",
       "      <th>std</th>\n",
       "      <td>1232.498479</td>\n",
       "      <td>1.695910</td>\n",
       "      <td>2.806840e+06</td>\n",
       "      <td>9.043363e+06</td>\n",
       "      <td>5.709187</td>\n",
       "      <td>172.430401</td>\n",
       "      <td>6.503637e+06</td>\n",
       "      <td>4.388966e+06</td>\n",
       "      <td>9.103754e+06</td>\n",
       "      <td>3.250185e+06</td>\n",
       "    </tr>\n",
       "    <tr>\n",
       "      <th>min</th>\n",
       "      <td>1.000000</td>\n",
       "      <td>0.000000</td>\n",
       "      <td>2.000000e+05</td>\n",
       "      <td>3.000000e+05</td>\n",
       "      <td>2.000000</td>\n",
       "      <td>300.000000</td>\n",
       "      <td>-1.000000e+05</td>\n",
       "      <td>0.000000e+00</td>\n",
       "      <td>3.000000e+05</td>\n",
       "      <td>0.000000e+00</td>\n",
       "    </tr>\n",
       "    <tr>\n",
       "      <th>25%</th>\n",
       "      <td>1068.000000</td>\n",
       "      <td>1.000000</td>\n",
       "      <td>2.700000e+06</td>\n",
       "      <td>7.700000e+06</td>\n",
       "      <td>6.000000</td>\n",
       "      <td>453.000000</td>\n",
       "      <td>2.200000e+06</td>\n",
       "      <td>1.300000e+06</td>\n",
       "      <td>7.500000e+06</td>\n",
       "      <td>2.300000e+06</td>\n",
       "    </tr>\n",
       "    <tr>\n",
       "      <th>50%</th>\n",
       "      <td>2135.000000</td>\n",
       "      <td>3.000000</td>\n",
       "      <td>5.100000e+06</td>\n",
       "      <td>1.450000e+07</td>\n",
       "      <td>10.000000</td>\n",
       "      <td>600.000000</td>\n",
       "      <td>5.600000e+06</td>\n",
       "      <td>3.700000e+06</td>\n",
       "      <td>1.460000e+07</td>\n",
       "      <td>4.600000e+06</td>\n",
       "    </tr>\n",
       "    <tr>\n",
       "      <th>75%</th>\n",
       "      <td>3202.000000</td>\n",
       "      <td>4.000000</td>\n",
       "      <td>7.500000e+06</td>\n",
       "      <td>2.150000e+07</td>\n",
       "      <td>16.000000</td>\n",
       "      <td>748.000000</td>\n",
       "      <td>1.130000e+07</td>\n",
       "      <td>7.600000e+06</td>\n",
       "      <td>2.170000e+07</td>\n",
       "      <td>7.100000e+06</td>\n",
       "    </tr>\n",
       "    <tr>\n",
       "      <th>max</th>\n",
       "      <td>4269.000000</td>\n",
       "      <td>5.000000</td>\n",
       "      <td>9.900000e+06</td>\n",
       "      <td>3.950000e+07</td>\n",
       "      <td>20.000000</td>\n",
       "      <td>900.000000</td>\n",
       "      <td>2.910000e+07</td>\n",
       "      <td>1.940000e+07</td>\n",
       "      <td>3.920000e+07</td>\n",
       "      <td>1.470000e+07</td>\n",
       "    </tr>\n",
       "  </tbody>\n",
       "</table>\n",
       "</div>"
      ],
      "text/plain": [
       "           loan_id   no_of_dependents   income_annum   loan_amount  \\\n",
       "count  4269.000000        4269.000000   4.269000e+03  4.269000e+03   \n",
       "mean   2135.000000           2.498712   5.059124e+06  1.513345e+07   \n",
       "std    1232.498479           1.695910   2.806840e+06  9.043363e+06   \n",
       "min       1.000000           0.000000   2.000000e+05  3.000000e+05   \n",
       "25%    1068.000000           1.000000   2.700000e+06  7.700000e+06   \n",
       "50%    2135.000000           3.000000   5.100000e+06  1.450000e+07   \n",
       "75%    3202.000000           4.000000   7.500000e+06  2.150000e+07   \n",
       "max    4269.000000           5.000000   9.900000e+06  3.950000e+07   \n",
       "\n",
       "         loan_term   cibil_score   residential_assets_value  \\\n",
       "count  4269.000000   4269.000000               4.269000e+03   \n",
       "mean     10.900445    599.936051               7.472617e+06   \n",
       "std       5.709187    172.430401               6.503637e+06   \n",
       "min       2.000000    300.000000              -1.000000e+05   \n",
       "25%       6.000000    453.000000               2.200000e+06   \n",
       "50%      10.000000    600.000000               5.600000e+06   \n",
       "75%      16.000000    748.000000               1.130000e+07   \n",
       "max      20.000000    900.000000               2.910000e+07   \n",
       "\n",
       "        commercial_assets_value   luxury_assets_value   bank_asset_value  \n",
       "count              4.269000e+03          4.269000e+03       4.269000e+03  \n",
       "mean               4.973155e+06          1.512631e+07       4.976692e+06  \n",
       "std                4.388966e+06          9.103754e+06       3.250185e+06  \n",
       "min                0.000000e+00          3.000000e+05       0.000000e+00  \n",
       "25%                1.300000e+06          7.500000e+06       2.300000e+06  \n",
       "50%                3.700000e+06          1.460000e+07       4.600000e+06  \n",
       "75%                7.600000e+06          2.170000e+07       7.100000e+06  \n",
       "max                1.940000e+07          3.920000e+07       1.470000e+07  "
      ]
     },
     "execution_count": 5,
     "metadata": {},
     "output_type": "execute_result"
    }
   ],
   "source": [
    "df.describe()"
   ]
  },
  {
   "cell_type": "code",
   "execution_count": 6,
   "id": "742ceefa",
   "metadata": {
    "execution": {
     "iopub.execute_input": "2023-10-16T06:41:12.363189Z",
     "iopub.status.busy": "2023-10-16T06:41:12.362263Z",
     "iopub.status.idle": "2023-10-16T06:41:12.379451Z",
     "shell.execute_reply": "2023-10-16T06:41:12.378373Z"
    },
    "papermill": {
     "duration": 0.03155,
     "end_time": "2023-10-16T06:41:12.381537",
     "exception": false,
     "start_time": "2023-10-16T06:41:12.349987",
     "status": "completed"
    },
    "tags": []
   },
   "outputs": [
    {
     "data": {
      "text/html": [
       "<div>\n",
       "<style scoped>\n",
       "    .dataframe tbody tr th:only-of-type {\n",
       "        vertical-align: middle;\n",
       "    }\n",
       "\n",
       "    .dataframe tbody tr th {\n",
       "        vertical-align: top;\n",
       "    }\n",
       "\n",
       "    .dataframe thead th {\n",
       "        text-align: right;\n",
       "    }\n",
       "</style>\n",
       "<table border=\"1\" class=\"dataframe\">\n",
       "  <thead>\n",
       "    <tr style=\"text-align: right;\">\n",
       "      <th></th>\n",
       "      <th>education</th>\n",
       "      <th>self_employed</th>\n",
       "      <th>loan_status</th>\n",
       "    </tr>\n",
       "  </thead>\n",
       "  <tbody>\n",
       "    <tr>\n",
       "      <th>count</th>\n",
       "      <td>4269</td>\n",
       "      <td>4269</td>\n",
       "      <td>4269</td>\n",
       "    </tr>\n",
       "    <tr>\n",
       "      <th>unique</th>\n",
       "      <td>2</td>\n",
       "      <td>2</td>\n",
       "      <td>2</td>\n",
       "    </tr>\n",
       "    <tr>\n",
       "      <th>top</th>\n",
       "      <td>Graduate</td>\n",
       "      <td>Yes</td>\n",
       "      <td>Approved</td>\n",
       "    </tr>\n",
       "    <tr>\n",
       "      <th>freq</th>\n",
       "      <td>2144</td>\n",
       "      <td>2150</td>\n",
       "      <td>2656</td>\n",
       "    </tr>\n",
       "  </tbody>\n",
       "</table>\n",
       "</div>"
      ],
      "text/plain": [
       "        education  self_employed  loan_status\n",
       "count        4269           4269         4269\n",
       "unique          2              2            2\n",
       "top      Graduate            Yes     Approved\n",
       "freq         2144           2150         2656"
      ]
     },
     "execution_count": 6,
     "metadata": {},
     "output_type": "execute_result"
    }
   ],
   "source": [
    "df.describe(include='O')"
   ]
  },
  {
   "cell_type": "code",
   "execution_count": 7,
   "id": "09bf2761",
   "metadata": {
    "execution": {
     "iopub.execute_input": "2023-10-16T06:41:12.405650Z",
     "iopub.status.busy": "2023-10-16T06:41:12.405061Z",
     "iopub.status.idle": "2023-10-16T06:41:12.414964Z",
     "shell.execute_reply": "2023-10-16T06:41:12.413799Z"
    },
    "papermill": {
     "duration": 0.024389,
     "end_time": "2023-10-16T06:41:12.417094",
     "exception": false,
     "start_time": "2023-10-16T06:41:12.392705",
     "status": "completed"
    },
    "tags": []
   },
   "outputs": [
    {
     "data": {
      "text/plain": [
       "loan_id                      0\n",
       " no_of_dependents            0\n",
       " education                   0\n",
       " self_employed               0\n",
       " income_annum                0\n",
       " loan_amount                 0\n",
       " loan_term                   0\n",
       " cibil_score                 0\n",
       " residential_assets_value    0\n",
       " commercial_assets_value     0\n",
       " luxury_assets_value         0\n",
       " bank_asset_value            0\n",
       " loan_status                 0\n",
       "dtype: int64"
      ]
     },
     "execution_count": 7,
     "metadata": {},
     "output_type": "execute_result"
    }
   ],
   "source": [
    "df.isnull().sum()"
   ]
  },
  {
   "cell_type": "code",
   "execution_count": 8,
   "id": "58de8878",
   "metadata": {
    "execution": {
     "iopub.execute_input": "2023-10-16T06:41:12.442323Z",
     "iopub.status.busy": "2023-10-16T06:41:12.441690Z",
     "iopub.status.idle": "2023-10-16T06:41:12.456364Z",
     "shell.execute_reply": "2023-10-16T06:41:12.455445Z"
    },
    "papermill": {
     "duration": 0.029763,
     "end_time": "2023-10-16T06:41:12.458417",
     "exception": false,
     "start_time": "2023-10-16T06:41:12.428654",
     "status": "completed"
    },
    "tags": []
   },
   "outputs": [
    {
     "data": {
      "text/plain": [
       "0"
      ]
     },
     "execution_count": 8,
     "metadata": {},
     "output_type": "execute_result"
    }
   ],
   "source": [
    "df.duplicated().sum()"
   ]
  },
  {
   "cell_type": "code",
   "execution_count": 9,
   "id": "1e49c4fd",
   "metadata": {
    "execution": {
     "iopub.execute_input": "2023-10-16T06:41:12.482864Z",
     "iopub.status.busy": "2023-10-16T06:41:12.482144Z",
     "iopub.status.idle": "2023-10-16T06:41:12.486047Z",
     "shell.execute_reply": "2023-10-16T06:41:12.485316Z"
    },
    "papermill": {
     "duration": 0.018322,
     "end_time": "2023-10-16T06:41:12.487979",
     "exception": false,
     "start_time": "2023-10-16T06:41:12.469657",
     "status": "completed"
    },
    "tags": []
   },
   "outputs": [],
   "source": [
    "## df['residential_assets_value'] = df['residential_assets_value'].abs()"
   ]
  },
  {
   "cell_type": "code",
   "execution_count": 10,
   "id": "dbfbce66",
   "metadata": {
    "execution": {
     "iopub.execute_input": "2023-10-16T06:41:12.512437Z",
     "iopub.status.busy": "2023-10-16T06:41:12.511787Z",
     "iopub.status.idle": "2023-10-16T06:41:12.516466Z",
     "shell.execute_reply": "2023-10-16T06:41:12.515707Z"
    },
    "papermill": {
     "duration": 0.019233,
     "end_time": "2023-10-16T06:41:12.518608",
     "exception": false,
     "start_time": "2023-10-16T06:41:12.499375",
     "status": "completed"
    },
    "tags": []
   },
   "outputs": [],
   "source": [
    "df.columns = df.columns.str.strip()"
   ]
  },
  {
   "cell_type": "code",
   "execution_count": 11,
   "id": "df5cf013",
   "metadata": {
    "execution": {
     "iopub.execute_input": "2023-10-16T06:41:12.542669Z",
     "iopub.status.busy": "2023-10-16T06:41:12.542241Z",
     "iopub.status.idle": "2023-10-16T06:41:12.554729Z",
     "shell.execute_reply": "2023-10-16T06:41:12.553361Z"
    },
    "papermill": {
     "duration": 0.027003,
     "end_time": "2023-10-16T06:41:12.556792",
     "exception": false,
     "start_time": "2023-10-16T06:41:12.529789",
     "status": "completed"
    },
    "tags": []
   },
   "outputs": [
    {
     "name": "stdout",
     "output_type": "stream",
     "text": [
      "<class 'pandas.core.frame.DataFrame'>\n",
      "RangeIndex: 4269 entries, 0 to 4268\n",
      "Data columns (total 13 columns):\n",
      " #   Column                    Non-Null Count  Dtype \n",
      "---  ------                    --------------  ----- \n",
      " 0   loan_id                   4269 non-null   int64 \n",
      " 1   no_of_dependents          4269 non-null   int64 \n",
      " 2   education                 4269 non-null   object\n",
      " 3   self_employed             4269 non-null   object\n",
      " 4   income_annum              4269 non-null   int64 \n",
      " 5   loan_amount               4269 non-null   int64 \n",
      " 6   loan_term                 4269 non-null   int64 \n",
      " 7   cibil_score               4269 non-null   int64 \n",
      " 8   residential_assets_value  4269 non-null   int64 \n",
      " 9   commercial_assets_value   4269 non-null   int64 \n",
      " 10  luxury_assets_value       4269 non-null   int64 \n",
      " 11  bank_asset_value          4269 non-null   int64 \n",
      " 12  loan_status               4269 non-null   object\n",
      "dtypes: int64(10), object(3)\n",
      "memory usage: 433.7+ KB\n"
     ]
    }
   ],
   "source": [
    "df.info()"
   ]
  },
  {
   "cell_type": "code",
   "execution_count": 12,
   "id": "36b1bee2",
   "metadata": {
    "execution": {
     "iopub.execute_input": "2023-10-16T06:41:12.637912Z",
     "iopub.status.busy": "2023-10-16T06:41:12.637419Z",
     "iopub.status.idle": "2023-10-16T06:41:12.644655Z",
     "shell.execute_reply": "2023-10-16T06:41:12.643551Z"
    },
    "papermill": {
     "duration": 0.078769,
     "end_time": "2023-10-16T06:41:12.646877",
     "exception": false,
     "start_time": "2023-10-16T06:41:12.568108",
     "status": "completed"
    },
    "tags": []
   },
   "outputs": [],
   "source": [
    "df['residential_assets_value'] = df['residential_assets_value'].abs()"
   ]
  },
  {
   "cell_type": "code",
   "execution_count": 13,
   "id": "288a4742",
   "metadata": {
    "execution": {
     "iopub.execute_input": "2023-10-16T06:41:12.671008Z",
     "iopub.status.busy": "2023-10-16T06:41:12.670659Z",
     "iopub.status.idle": "2023-10-16T06:41:12.684487Z",
     "shell.execute_reply": "2023-10-16T06:41:12.683196Z"
    },
    "papermill": {
     "duration": 0.028496,
     "end_time": "2023-10-16T06:41:12.686762",
     "exception": false,
     "start_time": "2023-10-16T06:41:12.658266",
     "status": "completed"
    },
    "tags": []
   },
   "outputs": [
    {
     "data": {
      "text/html": [
       "<div>\n",
       "<style scoped>\n",
       "    .dataframe tbody tr th:only-of-type {\n",
       "        vertical-align: middle;\n",
       "    }\n",
       "\n",
       "    .dataframe tbody tr th {\n",
       "        vertical-align: top;\n",
       "    }\n",
       "\n",
       "    .dataframe thead th {\n",
       "        text-align: right;\n",
       "    }\n",
       "</style>\n",
       "<table border=\"1\" class=\"dataframe\">\n",
       "  <thead>\n",
       "    <tr style=\"text-align: right;\">\n",
       "      <th></th>\n",
       "      <th>loan_id</th>\n",
       "      <th>no_of_dependents</th>\n",
       "      <th>education</th>\n",
       "      <th>self_employed</th>\n",
       "      <th>income_annum</th>\n",
       "      <th>loan_amount</th>\n",
       "      <th>loan_term</th>\n",
       "      <th>cibil_score</th>\n",
       "      <th>residential_assets_value</th>\n",
       "      <th>commercial_assets_value</th>\n",
       "      <th>luxury_assets_value</th>\n",
       "      <th>bank_asset_value</th>\n",
       "      <th>loan_status</th>\n",
       "    </tr>\n",
       "  </thead>\n",
       "  <tbody>\n",
       "    <tr>\n",
       "      <th>0</th>\n",
       "      <td>1</td>\n",
       "      <td>2</td>\n",
       "      <td>Graduate</td>\n",
       "      <td>No</td>\n",
       "      <td>9600000</td>\n",
       "      <td>29900000</td>\n",
       "      <td>12</td>\n",
       "      <td>778</td>\n",
       "      <td>2400000</td>\n",
       "      <td>17600000</td>\n",
       "      <td>22700000</td>\n",
       "      <td>8000000</td>\n",
       "      <td>Approved</td>\n",
       "    </tr>\n",
       "    <tr>\n",
       "      <th>1</th>\n",
       "      <td>2</td>\n",
       "      <td>0</td>\n",
       "      <td>Not Graduate</td>\n",
       "      <td>Yes</td>\n",
       "      <td>4100000</td>\n",
       "      <td>12200000</td>\n",
       "      <td>8</td>\n",
       "      <td>417</td>\n",
       "      <td>2700000</td>\n",
       "      <td>2200000</td>\n",
       "      <td>8800000</td>\n",
       "      <td>3300000</td>\n",
       "      <td>Rejected</td>\n",
       "    </tr>\n",
       "    <tr>\n",
       "      <th>2</th>\n",
       "      <td>3</td>\n",
       "      <td>3</td>\n",
       "      <td>Graduate</td>\n",
       "      <td>No</td>\n",
       "      <td>9100000</td>\n",
       "      <td>29700000</td>\n",
       "      <td>20</td>\n",
       "      <td>506</td>\n",
       "      <td>7100000</td>\n",
       "      <td>4500000</td>\n",
       "      <td>33300000</td>\n",
       "      <td>12800000</td>\n",
       "      <td>Rejected</td>\n",
       "    </tr>\n",
       "    <tr>\n",
       "      <th>3</th>\n",
       "      <td>4</td>\n",
       "      <td>3</td>\n",
       "      <td>Graduate</td>\n",
       "      <td>No</td>\n",
       "      <td>8200000</td>\n",
       "      <td>30700000</td>\n",
       "      <td>8</td>\n",
       "      <td>467</td>\n",
       "      <td>18200000</td>\n",
       "      <td>3300000</td>\n",
       "      <td>23300000</td>\n",
       "      <td>7900000</td>\n",
       "      <td>Rejected</td>\n",
       "    </tr>\n",
       "    <tr>\n",
       "      <th>4</th>\n",
       "      <td>5</td>\n",
       "      <td>5</td>\n",
       "      <td>Not Graduate</td>\n",
       "      <td>Yes</td>\n",
       "      <td>9800000</td>\n",
       "      <td>24200000</td>\n",
       "      <td>20</td>\n",
       "      <td>382</td>\n",
       "      <td>12400000</td>\n",
       "      <td>8200000</td>\n",
       "      <td>29400000</td>\n",
       "      <td>5000000</td>\n",
       "      <td>Rejected</td>\n",
       "    </tr>\n",
       "  </tbody>\n",
       "</table>\n",
       "</div>"
      ],
      "text/plain": [
       "   loan_id  no_of_dependents      education self_employed  income_annum  \\\n",
       "0        1                 2       Graduate            No       9600000   \n",
       "1        2                 0   Not Graduate           Yes       4100000   \n",
       "2        3                 3       Graduate            No       9100000   \n",
       "3        4                 3       Graduate            No       8200000   \n",
       "4        5                 5   Not Graduate           Yes       9800000   \n",
       "\n",
       "   loan_amount  loan_term  cibil_score  residential_assets_value  \\\n",
       "0     29900000         12          778                   2400000   \n",
       "1     12200000          8          417                   2700000   \n",
       "2     29700000         20          506                   7100000   \n",
       "3     30700000          8          467                  18200000   \n",
       "4     24200000         20          382                  12400000   \n",
       "\n",
       "   commercial_assets_value  luxury_assets_value  bank_asset_value loan_status  \n",
       "0                 17600000             22700000           8000000    Approved  \n",
       "1                  2200000              8800000           3300000    Rejected  \n",
       "2                  4500000             33300000          12800000    Rejected  \n",
       "3                  3300000             23300000           7900000    Rejected  \n",
       "4                  8200000             29400000           5000000    Rejected  "
      ]
     },
     "execution_count": 13,
     "metadata": {},
     "output_type": "execute_result"
    }
   ],
   "source": [
    "df[:5]"
   ]
  },
  {
   "cell_type": "markdown",
   "id": "84374f9c",
   "metadata": {
    "papermill": {
     "duration": 0.011366,
     "end_time": "2023-10-16T06:41:12.709896",
     "exception": false,
     "start_time": "2023-10-16T06:41:12.698530",
     "status": "completed"
    },
    "tags": []
   },
   "source": [
    "## Addission new columns"
   ]
  },
  {
   "cell_type": "code",
   "execution_count": 14,
   "id": "3daf4b77",
   "metadata": {
    "execution": {
     "iopub.execute_input": "2023-10-16T06:41:12.735400Z",
     "iopub.status.busy": "2023-10-16T06:41:12.735002Z",
     "iopub.status.idle": "2023-10-16T06:41:12.741033Z",
     "shell.execute_reply": "2023-10-16T06:41:12.739865Z"
    },
    "papermill": {
     "duration": 0.02117,
     "end_time": "2023-10-16T06:41:12.743115",
     "exception": false,
     "start_time": "2023-10-16T06:41:12.721945",
     "status": "completed"
    },
    "tags": []
   },
   "outputs": [],
   "source": [
    "#cibi_rating \n",
    "def cibil_rating(value):\n",
    "    if 300 <=value <=549:\n",
    "        return 'Poor'\n",
    "    elif 550 <= value <= 649:\n",
    "        return 'Averge'\n",
    "    elif 650 <= value <= 749:\n",
    "        return 'Good'\n",
    "    else:\n",
    "        return 'Excellent' \n",
    "   \n",
    "    "
   ]
  },
  {
   "cell_type": "code",
   "execution_count": 15,
   "id": "2ad8df31",
   "metadata": {
    "execution": {
     "iopub.execute_input": "2023-10-16T06:41:12.771352Z",
     "iopub.status.busy": "2023-10-16T06:41:12.770968Z",
     "iopub.status.idle": "2023-10-16T06:41:12.778507Z",
     "shell.execute_reply": "2023-10-16T06:41:12.777321Z"
    },
    "papermill": {
     "duration": 0.024251,
     "end_time": "2023-10-16T06:41:12.780649",
     "exception": false,
     "start_time": "2023-10-16T06:41:12.756398",
     "status": "completed"
    },
    "tags": []
   },
   "outputs": [],
   "source": [
    "df['cibil_rating'] = df['cibil_score'].apply(cibil_rating)"
   ]
  },
  {
   "cell_type": "code",
   "execution_count": 16,
   "id": "e9c5701c",
   "metadata": {
    "execution": {
     "iopub.execute_input": "2023-10-16T06:41:12.812142Z",
     "iopub.status.busy": "2023-10-16T06:41:12.811732Z",
     "iopub.status.idle": "2023-10-16T06:41:12.826090Z",
     "shell.execute_reply": "2023-10-16T06:41:12.825244Z"
    },
    "papermill": {
     "duration": 0.033871,
     "end_time": "2023-10-16T06:41:12.828029",
     "exception": false,
     "start_time": "2023-10-16T06:41:12.794158",
     "status": "completed"
    },
    "tags": []
   },
   "outputs": [
    {
     "data": {
      "text/html": [
       "<div>\n",
       "<style scoped>\n",
       "    .dataframe tbody tr th:only-of-type {\n",
       "        vertical-align: middle;\n",
       "    }\n",
       "\n",
       "    .dataframe tbody tr th {\n",
       "        vertical-align: top;\n",
       "    }\n",
       "\n",
       "    .dataframe thead th {\n",
       "        text-align: right;\n",
       "    }\n",
       "</style>\n",
       "<table border=\"1\" class=\"dataframe\">\n",
       "  <thead>\n",
       "    <tr style=\"text-align: right;\">\n",
       "      <th></th>\n",
       "      <th>loan_id</th>\n",
       "      <th>no_of_dependents</th>\n",
       "      <th>education</th>\n",
       "      <th>self_employed</th>\n",
       "      <th>income_annum</th>\n",
       "      <th>loan_amount</th>\n",
       "      <th>loan_term</th>\n",
       "      <th>cibil_score</th>\n",
       "      <th>residential_assets_value</th>\n",
       "      <th>commercial_assets_value</th>\n",
       "      <th>luxury_assets_value</th>\n",
       "      <th>bank_asset_value</th>\n",
       "      <th>loan_status</th>\n",
       "      <th>cibil_rating</th>\n",
       "    </tr>\n",
       "  </thead>\n",
       "  <tbody>\n",
       "    <tr>\n",
       "      <th>0</th>\n",
       "      <td>1</td>\n",
       "      <td>2</td>\n",
       "      <td>Graduate</td>\n",
       "      <td>No</td>\n",
       "      <td>9600000</td>\n",
       "      <td>29900000</td>\n",
       "      <td>12</td>\n",
       "      <td>778</td>\n",
       "      <td>2400000</td>\n",
       "      <td>17600000</td>\n",
       "      <td>22700000</td>\n",
       "      <td>8000000</td>\n",
       "      <td>Approved</td>\n",
       "      <td>Excellent</td>\n",
       "    </tr>\n",
       "    <tr>\n",
       "      <th>1</th>\n",
       "      <td>2</td>\n",
       "      <td>0</td>\n",
       "      <td>Not Graduate</td>\n",
       "      <td>Yes</td>\n",
       "      <td>4100000</td>\n",
       "      <td>12200000</td>\n",
       "      <td>8</td>\n",
       "      <td>417</td>\n",
       "      <td>2700000</td>\n",
       "      <td>2200000</td>\n",
       "      <td>8800000</td>\n",
       "      <td>3300000</td>\n",
       "      <td>Rejected</td>\n",
       "      <td>Poor</td>\n",
       "    </tr>\n",
       "    <tr>\n",
       "      <th>2</th>\n",
       "      <td>3</td>\n",
       "      <td>3</td>\n",
       "      <td>Graduate</td>\n",
       "      <td>No</td>\n",
       "      <td>9100000</td>\n",
       "      <td>29700000</td>\n",
       "      <td>20</td>\n",
       "      <td>506</td>\n",
       "      <td>7100000</td>\n",
       "      <td>4500000</td>\n",
       "      <td>33300000</td>\n",
       "      <td>12800000</td>\n",
       "      <td>Rejected</td>\n",
       "      <td>Poor</td>\n",
       "    </tr>\n",
       "    <tr>\n",
       "      <th>3</th>\n",
       "      <td>4</td>\n",
       "      <td>3</td>\n",
       "      <td>Graduate</td>\n",
       "      <td>No</td>\n",
       "      <td>8200000</td>\n",
       "      <td>30700000</td>\n",
       "      <td>8</td>\n",
       "      <td>467</td>\n",
       "      <td>18200000</td>\n",
       "      <td>3300000</td>\n",
       "      <td>23300000</td>\n",
       "      <td>7900000</td>\n",
       "      <td>Rejected</td>\n",
       "      <td>Poor</td>\n",
       "    </tr>\n",
       "    <tr>\n",
       "      <th>4</th>\n",
       "      <td>5</td>\n",
       "      <td>5</td>\n",
       "      <td>Not Graduate</td>\n",
       "      <td>Yes</td>\n",
       "      <td>9800000</td>\n",
       "      <td>24200000</td>\n",
       "      <td>20</td>\n",
       "      <td>382</td>\n",
       "      <td>12400000</td>\n",
       "      <td>8200000</td>\n",
       "      <td>29400000</td>\n",
       "      <td>5000000</td>\n",
       "      <td>Rejected</td>\n",
       "      <td>Poor</td>\n",
       "    </tr>\n",
       "  </tbody>\n",
       "</table>\n",
       "</div>"
      ],
      "text/plain": [
       "   loan_id  no_of_dependents      education self_employed  income_annum  \\\n",
       "0        1                 2       Graduate            No       9600000   \n",
       "1        2                 0   Not Graduate           Yes       4100000   \n",
       "2        3                 3       Graduate            No       9100000   \n",
       "3        4                 3       Graduate            No       8200000   \n",
       "4        5                 5   Not Graduate           Yes       9800000   \n",
       "\n",
       "   loan_amount  loan_term  cibil_score  residential_assets_value  \\\n",
       "0     29900000         12          778                   2400000   \n",
       "1     12200000          8          417                   2700000   \n",
       "2     29700000         20          506                   7100000   \n",
       "3     30700000          8          467                  18200000   \n",
       "4     24200000         20          382                  12400000   \n",
       "\n",
       "   commercial_assets_value  luxury_assets_value  bank_asset_value loan_status  \\\n",
       "0                 17600000             22700000           8000000    Approved   \n",
       "1                  2200000              8800000           3300000    Rejected   \n",
       "2                  4500000             33300000          12800000    Rejected   \n",
       "3                  3300000             23300000           7900000    Rejected   \n",
       "4                  8200000             29400000           5000000    Rejected   \n",
       "\n",
       "  cibil_rating  \n",
       "0    Excellent  \n",
       "1         Poor  \n",
       "2         Poor  \n",
       "3         Poor  \n",
       "4         Poor  "
      ]
     },
     "execution_count": 16,
     "metadata": {},
     "output_type": "execute_result"
    }
   ],
   "source": [
    "df[:5]"
   ]
  },
  {
   "cell_type": "code",
   "execution_count": 17,
   "id": "8aba5b93",
   "metadata": {
    "execution": {
     "iopub.execute_input": "2023-10-16T06:41:12.854484Z",
     "iopub.status.busy": "2023-10-16T06:41:12.854130Z",
     "iopub.status.idle": "2023-10-16T06:41:12.894795Z",
     "shell.execute_reply": "2023-10-16T06:41:12.893993Z"
    },
    "papermill": {
     "duration": 0.056544,
     "end_time": "2023-10-16T06:41:12.897010",
     "exception": false,
     "start_time": "2023-10-16T06:41:12.840466",
     "status": "completed"
    },
    "tags": []
   },
   "outputs": [
    {
     "data": {
      "text/html": [
       "<div>\n",
       "<style scoped>\n",
       "    .dataframe tbody tr th:only-of-type {\n",
       "        vertical-align: middle;\n",
       "    }\n",
       "\n",
       "    .dataframe tbody tr th {\n",
       "        vertical-align: top;\n",
       "    }\n",
       "\n",
       "    .dataframe thead th {\n",
       "        text-align: right;\n",
       "    }\n",
       "</style>\n",
       "<table border=\"1\" class=\"dataframe\">\n",
       "  <thead>\n",
       "    <tr style=\"text-align: right;\">\n",
       "      <th></th>\n",
       "      <th>loan_id</th>\n",
       "      <th>no_of_dependents</th>\n",
       "      <th>income_annum</th>\n",
       "      <th>loan_amount</th>\n",
       "      <th>loan_term</th>\n",
       "      <th>cibil_score</th>\n",
       "      <th>residential_assets_value</th>\n",
       "      <th>commercial_assets_value</th>\n",
       "      <th>luxury_assets_value</th>\n",
       "      <th>bank_asset_value</th>\n",
       "    </tr>\n",
       "  </thead>\n",
       "  <tbody>\n",
       "    <tr>\n",
       "      <th>count</th>\n",
       "      <td>4269.000000</td>\n",
       "      <td>4269.000000</td>\n",
       "      <td>4.269000e+03</td>\n",
       "      <td>4.269000e+03</td>\n",
       "      <td>4269.000000</td>\n",
       "      <td>4269.000000</td>\n",
       "      <td>4.269000e+03</td>\n",
       "      <td>4.269000e+03</td>\n",
       "      <td>4.269000e+03</td>\n",
       "      <td>4.269000e+03</td>\n",
       "    </tr>\n",
       "    <tr>\n",
       "      <th>mean</th>\n",
       "      <td>2135.000000</td>\n",
       "      <td>2.498712</td>\n",
       "      <td>5.059124e+06</td>\n",
       "      <td>1.513345e+07</td>\n",
       "      <td>10.900445</td>\n",
       "      <td>599.936051</td>\n",
       "      <td>7.473928e+06</td>\n",
       "      <td>4.973155e+06</td>\n",
       "      <td>1.512631e+07</td>\n",
       "      <td>4.976692e+06</td>\n",
       "    </tr>\n",
       "    <tr>\n",
       "      <th>std</th>\n",
       "      <td>1232.498479</td>\n",
       "      <td>1.695910</td>\n",
       "      <td>2.806840e+06</td>\n",
       "      <td>9.043363e+06</td>\n",
       "      <td>5.709187</td>\n",
       "      <td>172.430401</td>\n",
       "      <td>6.502129e+06</td>\n",
       "      <td>4.388966e+06</td>\n",
       "      <td>9.103754e+06</td>\n",
       "      <td>3.250185e+06</td>\n",
       "    </tr>\n",
       "    <tr>\n",
       "      <th>min</th>\n",
       "      <td>1.000000</td>\n",
       "      <td>0.000000</td>\n",
       "      <td>2.000000e+05</td>\n",
       "      <td>3.000000e+05</td>\n",
       "      <td>2.000000</td>\n",
       "      <td>300.000000</td>\n",
       "      <td>0.000000e+00</td>\n",
       "      <td>0.000000e+00</td>\n",
       "      <td>3.000000e+05</td>\n",
       "      <td>0.000000e+00</td>\n",
       "    </tr>\n",
       "    <tr>\n",
       "      <th>25%</th>\n",
       "      <td>1068.000000</td>\n",
       "      <td>1.000000</td>\n",
       "      <td>2.700000e+06</td>\n",
       "      <td>7.700000e+06</td>\n",
       "      <td>6.000000</td>\n",
       "      <td>453.000000</td>\n",
       "      <td>2.200000e+06</td>\n",
       "      <td>1.300000e+06</td>\n",
       "      <td>7.500000e+06</td>\n",
       "      <td>2.300000e+06</td>\n",
       "    </tr>\n",
       "    <tr>\n",
       "      <th>50%</th>\n",
       "      <td>2135.000000</td>\n",
       "      <td>3.000000</td>\n",
       "      <td>5.100000e+06</td>\n",
       "      <td>1.450000e+07</td>\n",
       "      <td>10.000000</td>\n",
       "      <td>600.000000</td>\n",
       "      <td>5.600000e+06</td>\n",
       "      <td>3.700000e+06</td>\n",
       "      <td>1.460000e+07</td>\n",
       "      <td>4.600000e+06</td>\n",
       "    </tr>\n",
       "    <tr>\n",
       "      <th>75%</th>\n",
       "      <td>3202.000000</td>\n",
       "      <td>4.000000</td>\n",
       "      <td>7.500000e+06</td>\n",
       "      <td>2.150000e+07</td>\n",
       "      <td>16.000000</td>\n",
       "      <td>748.000000</td>\n",
       "      <td>1.130000e+07</td>\n",
       "      <td>7.600000e+06</td>\n",
       "      <td>2.170000e+07</td>\n",
       "      <td>7.100000e+06</td>\n",
       "    </tr>\n",
       "    <tr>\n",
       "      <th>max</th>\n",
       "      <td>4269.000000</td>\n",
       "      <td>5.000000</td>\n",
       "      <td>9.900000e+06</td>\n",
       "      <td>3.950000e+07</td>\n",
       "      <td>20.000000</td>\n",
       "      <td>900.000000</td>\n",
       "      <td>2.910000e+07</td>\n",
       "      <td>1.940000e+07</td>\n",
       "      <td>3.920000e+07</td>\n",
       "      <td>1.470000e+07</td>\n",
       "    </tr>\n",
       "  </tbody>\n",
       "</table>\n",
       "</div>"
      ],
      "text/plain": [
       "           loan_id  no_of_dependents  income_annum   loan_amount    loan_term  \\\n",
       "count  4269.000000       4269.000000  4.269000e+03  4.269000e+03  4269.000000   \n",
       "mean   2135.000000          2.498712  5.059124e+06  1.513345e+07    10.900445   \n",
       "std    1232.498479          1.695910  2.806840e+06  9.043363e+06     5.709187   \n",
       "min       1.000000          0.000000  2.000000e+05  3.000000e+05     2.000000   \n",
       "25%    1068.000000          1.000000  2.700000e+06  7.700000e+06     6.000000   \n",
       "50%    2135.000000          3.000000  5.100000e+06  1.450000e+07    10.000000   \n",
       "75%    3202.000000          4.000000  7.500000e+06  2.150000e+07    16.000000   \n",
       "max    4269.000000          5.000000  9.900000e+06  3.950000e+07    20.000000   \n",
       "\n",
       "       cibil_score  residential_assets_value  commercial_assets_value  \\\n",
       "count  4269.000000              4.269000e+03             4.269000e+03   \n",
       "mean    599.936051              7.473928e+06             4.973155e+06   \n",
       "std     172.430401              6.502129e+06             4.388966e+06   \n",
       "min     300.000000              0.000000e+00             0.000000e+00   \n",
       "25%     453.000000              2.200000e+06             1.300000e+06   \n",
       "50%     600.000000              5.600000e+06             3.700000e+06   \n",
       "75%     748.000000              1.130000e+07             7.600000e+06   \n",
       "max     900.000000              2.910000e+07             1.940000e+07   \n",
       "\n",
       "       luxury_assets_value  bank_asset_value  \n",
       "count         4.269000e+03      4.269000e+03  \n",
       "mean          1.512631e+07      4.976692e+06  \n",
       "std           9.103754e+06      3.250185e+06  \n",
       "min           3.000000e+05      0.000000e+00  \n",
       "25%           7.500000e+06      2.300000e+06  \n",
       "50%           1.460000e+07      4.600000e+06  \n",
       "75%           2.170000e+07      7.100000e+06  \n",
       "max           3.920000e+07      1.470000e+07  "
      ]
     },
     "execution_count": 17,
     "metadata": {},
     "output_type": "execute_result"
    }
   ],
   "source": [
    "df.describe()"
   ]
  },
  {
   "cell_type": "code",
   "execution_count": 18,
   "id": "112c3543",
   "metadata": {
    "execution": {
     "iopub.execute_input": "2023-10-16T06:41:12.924535Z",
     "iopub.status.busy": "2023-10-16T06:41:12.924086Z",
     "iopub.status.idle": "2023-10-16T06:41:12.933047Z",
     "shell.execute_reply": "2023-10-16T06:41:12.931969Z"
    },
    "papermill": {
     "duration": 0.025394,
     "end_time": "2023-10-16T06:41:12.935096",
     "exception": false,
     "start_time": "2023-10-16T06:41:12.909702",
     "status": "completed"
    },
    "tags": []
   },
   "outputs": [
    {
     "data": {
      "text/plain": [
       "cibil_rating\n",
       "Poor         1785\n",
       "Excellent    1056\n",
       "Good          745\n",
       "Averge        683\n",
       "Name: count, dtype: int64"
      ]
     },
     "execution_count": 18,
     "metadata": {},
     "output_type": "execute_result"
    }
   ],
   "source": [
    "df.cibil_rating.value_counts()"
   ]
  },
  {
   "cell_type": "code",
   "execution_count": 19,
   "id": "b3db5e06",
   "metadata": {
    "execution": {
     "iopub.execute_input": "2023-10-16T06:41:12.961132Z",
     "iopub.status.busy": "2023-10-16T06:41:12.960786Z",
     "iopub.status.idle": "2023-10-16T06:41:12.967957Z",
     "shell.execute_reply": "2023-10-16T06:41:12.966914Z"
    },
    "papermill": {
     "duration": 0.022684,
     "end_time": "2023-10-16T06:41:12.969945",
     "exception": false,
     "start_time": "2023-10-16T06:41:12.947261",
     "status": "completed"
    },
    "tags": []
   },
   "outputs": [
    {
     "data": {
      "text/plain": [
       "9900000"
      ]
     },
     "execution_count": 19,
     "metadata": {},
     "output_type": "execute_result"
    }
   ],
   "source": [
    "\n",
    "df.income_annum.min()\n",
    "df.income_annum.max()"
   ]
  },
  {
   "cell_type": "code",
   "execution_count": 20,
   "id": "04cb2647",
   "metadata": {
    "execution": {
     "iopub.execute_input": "2023-10-16T06:41:12.996109Z",
     "iopub.status.busy": "2023-10-16T06:41:12.995734Z",
     "iopub.status.idle": "2023-10-16T06:41:13.002037Z",
     "shell.execute_reply": "2023-10-16T06:41:13.000569Z"
    },
    "papermill": {
     "duration": 0.022217,
     "end_time": "2023-10-16T06:41:13.004319",
     "exception": false,
     "start_time": "2023-10-16T06:41:12.982102",
     "status": "completed"
    },
    "tags": []
   },
   "outputs": [],
   "source": [
    "## income column\n",
    "\n",
    "def income_levels(value):\n",
    "    if 200000<= value <= 1000000:\n",
    "        return 'Low'\n",
    "    elif 1000001 <= value <= 4000000:\n",
    "        return 'Low Middle'\n",
    "    elif 4000001 <= value <=  7500000:\n",
    "        return 'Upper Middle'\n",
    "    elif 7500001 <= value <= 10000000:\n",
    "        return 'High'\n",
    "    else:\n",
    "        return 'Very high income'       "
   ]
  },
  {
   "cell_type": "code",
   "execution_count": 21,
   "id": "75f251e2",
   "metadata": {
    "execution": {
     "iopub.execute_input": "2023-10-16T06:41:13.032437Z",
     "iopub.status.busy": "2023-10-16T06:41:13.032061Z",
     "iopub.status.idle": "2023-10-16T06:41:13.039914Z",
     "shell.execute_reply": "2023-10-16T06:41:13.038725Z"
    },
    "papermill": {
     "duration": 0.025069,
     "end_time": "2023-10-16T06:41:13.042229",
     "exception": false,
     "start_time": "2023-10-16T06:41:13.017160",
     "status": "completed"
    },
    "tags": []
   },
   "outputs": [],
   "source": [
    "df['income_level'] = df['income_annum'].apply(income_levels)"
   ]
  },
  {
   "cell_type": "code",
   "execution_count": 22,
   "id": "a037fb09",
   "metadata": {
    "execution": {
     "iopub.execute_input": "2023-10-16T06:41:13.068493Z",
     "iopub.status.busy": "2023-10-16T06:41:13.068123Z",
     "iopub.status.idle": "2023-10-16T06:41:13.080957Z",
     "shell.execute_reply": "2023-10-16T06:41:13.080141Z"
    },
    "papermill": {
     "duration": 0.028577,
     "end_time": "2023-10-16T06:41:13.083130",
     "exception": false,
     "start_time": "2023-10-16T06:41:13.054553",
     "status": "completed"
    },
    "tags": []
   },
   "outputs": [
    {
     "data": {
      "text/html": [
       "<div>\n",
       "<style scoped>\n",
       "    .dataframe tbody tr th:only-of-type {\n",
       "        vertical-align: middle;\n",
       "    }\n",
       "\n",
       "    .dataframe tbody tr th {\n",
       "        vertical-align: top;\n",
       "    }\n",
       "\n",
       "    .dataframe thead th {\n",
       "        text-align: right;\n",
       "    }\n",
       "</style>\n",
       "<table border=\"1\" class=\"dataframe\">\n",
       "  <thead>\n",
       "    <tr style=\"text-align: right;\">\n",
       "      <th></th>\n",
       "      <th>loan_id</th>\n",
       "      <th>no_of_dependents</th>\n",
       "      <th>education</th>\n",
       "      <th>self_employed</th>\n",
       "      <th>income_annum</th>\n",
       "      <th>loan_amount</th>\n",
       "      <th>loan_term</th>\n",
       "      <th>cibil_score</th>\n",
       "      <th>residential_assets_value</th>\n",
       "      <th>commercial_assets_value</th>\n",
       "      <th>luxury_assets_value</th>\n",
       "      <th>bank_asset_value</th>\n",
       "      <th>loan_status</th>\n",
       "      <th>cibil_rating</th>\n",
       "      <th>income_level</th>\n",
       "    </tr>\n",
       "  </thead>\n",
       "  <tbody>\n",
       "    <tr>\n",
       "      <th>0</th>\n",
       "      <td>1</td>\n",
       "      <td>2</td>\n",
       "      <td>Graduate</td>\n",
       "      <td>No</td>\n",
       "      <td>9600000</td>\n",
       "      <td>29900000</td>\n",
       "      <td>12</td>\n",
       "      <td>778</td>\n",
       "      <td>2400000</td>\n",
       "      <td>17600000</td>\n",
       "      <td>22700000</td>\n",
       "      <td>8000000</td>\n",
       "      <td>Approved</td>\n",
       "      <td>Excellent</td>\n",
       "      <td>High</td>\n",
       "    </tr>\n",
       "    <tr>\n",
       "      <th>1</th>\n",
       "      <td>2</td>\n",
       "      <td>0</td>\n",
       "      <td>Not Graduate</td>\n",
       "      <td>Yes</td>\n",
       "      <td>4100000</td>\n",
       "      <td>12200000</td>\n",
       "      <td>8</td>\n",
       "      <td>417</td>\n",
       "      <td>2700000</td>\n",
       "      <td>2200000</td>\n",
       "      <td>8800000</td>\n",
       "      <td>3300000</td>\n",
       "      <td>Rejected</td>\n",
       "      <td>Poor</td>\n",
       "      <td>Upper Middle</td>\n",
       "    </tr>\n",
       "  </tbody>\n",
       "</table>\n",
       "</div>"
      ],
      "text/plain": [
       "   loan_id  no_of_dependents      education self_employed  income_annum  \\\n",
       "0        1                 2       Graduate            No       9600000   \n",
       "1        2                 0   Not Graduate           Yes       4100000   \n",
       "\n",
       "   loan_amount  loan_term  cibil_score  residential_assets_value  \\\n",
       "0     29900000         12          778                   2400000   \n",
       "1     12200000          8          417                   2700000   \n",
       "\n",
       "   commercial_assets_value  luxury_assets_value  bank_asset_value loan_status  \\\n",
       "0                 17600000             22700000           8000000    Approved   \n",
       "1                  2200000              8800000           3300000    Rejected   \n",
       "\n",
       "  cibil_rating  income_level  \n",
       "0    Excellent          High  \n",
       "1         Poor  Upper Middle  "
      ]
     },
     "execution_count": 22,
     "metadata": {},
     "output_type": "execute_result"
    }
   ],
   "source": [
    "df[:2]"
   ]
  },
  {
   "cell_type": "code",
   "execution_count": 23,
   "id": "90b1600f",
   "metadata": {
    "execution": {
     "iopub.execute_input": "2023-10-16T06:41:13.112721Z",
     "iopub.status.busy": "2023-10-16T06:41:13.112327Z",
     "iopub.status.idle": "2023-10-16T06:41:13.119335Z",
     "shell.execute_reply": "2023-10-16T06:41:13.118129Z"
    },
    "papermill": {
     "duration": 0.024395,
     "end_time": "2023-10-16T06:41:13.121608",
     "exception": false,
     "start_time": "2023-10-16T06:41:13.097213",
     "status": "completed"
    },
    "tags": []
   },
   "outputs": [
    {
     "data": {
      "text/plain": [
       "300000"
      ]
     },
     "execution_count": 23,
     "metadata": {},
     "output_type": "execute_result"
    }
   ],
   "source": [
    "\n",
    "df.loan_amount.max()\n",
    "df.loan_amount.min()"
   ]
  },
  {
   "cell_type": "code",
   "execution_count": 24,
   "id": "d8720dc6",
   "metadata": {
    "execution": {
     "iopub.execute_input": "2023-10-16T06:41:13.149436Z",
     "iopub.status.busy": "2023-10-16T06:41:13.148835Z",
     "iopub.status.idle": "2023-10-16T06:41:13.154468Z",
     "shell.execute_reply": "2023-10-16T06:41:13.153723Z"
    },
    "papermill": {
     "duration": 0.022073,
     "end_time": "2023-10-16T06:41:13.156736",
     "exception": false,
     "start_time": "2023-10-16T06:41:13.134663",
     "status": "completed"
    },
    "tags": []
   },
   "outputs": [],
   "source": [
    "def loan_rating(value):\n",
    "    if 300000 <= value <=1000000:\n",
    "        return 'Bronze'\n",
    "    elif 1000001 <=value <= 5000000:\n",
    "        return 'Silver'\n",
    "    elif  5000001 <= value <= 10000000:\n",
    "        return 'Gold'\n",
    "    elif 10000001<= value <=20000000:\n",
    "        return 'Platinum'\n",
    "    else:\n",
    "        return 'diamond'        \n",
    "    "
   ]
  },
  {
   "cell_type": "code",
   "execution_count": 25,
   "id": "e383a1a1",
   "metadata": {
    "execution": {
     "iopub.execute_input": "2023-10-16T06:41:13.185041Z",
     "iopub.status.busy": "2023-10-16T06:41:13.184410Z",
     "iopub.status.idle": "2023-10-16T06:41:13.191834Z",
     "shell.execute_reply": "2023-10-16T06:41:13.190709Z"
    },
    "papermill": {
     "duration": 0.024314,
     "end_time": "2023-10-16T06:41:13.194168",
     "exception": false,
     "start_time": "2023-10-16T06:41:13.169854",
     "status": "completed"
    },
    "tags": []
   },
   "outputs": [],
   "source": [
    "df['loan_rating'] = df.loan_amount.apply(loan_rating)"
   ]
  },
  {
   "cell_type": "code",
   "execution_count": 26,
   "id": "33b43d3c",
   "metadata": {
    "execution": {
     "iopub.execute_input": "2023-10-16T06:41:13.222097Z",
     "iopub.status.busy": "2023-10-16T06:41:13.221451Z",
     "iopub.status.idle": "2023-10-16T06:41:13.235203Z",
     "shell.execute_reply": "2023-10-16T06:41:13.234055Z"
    },
    "papermill": {
     "duration": 0.030492,
     "end_time": "2023-10-16T06:41:13.237350",
     "exception": false,
     "start_time": "2023-10-16T06:41:13.206858",
     "status": "completed"
    },
    "tags": []
   },
   "outputs": [
    {
     "data": {
      "text/html": [
       "<div>\n",
       "<style scoped>\n",
       "    .dataframe tbody tr th:only-of-type {\n",
       "        vertical-align: middle;\n",
       "    }\n",
       "\n",
       "    .dataframe tbody tr th {\n",
       "        vertical-align: top;\n",
       "    }\n",
       "\n",
       "    .dataframe thead th {\n",
       "        text-align: right;\n",
       "    }\n",
       "</style>\n",
       "<table border=\"1\" class=\"dataframe\">\n",
       "  <thead>\n",
       "    <tr style=\"text-align: right;\">\n",
       "      <th></th>\n",
       "      <th>loan_id</th>\n",
       "      <th>no_of_dependents</th>\n",
       "      <th>education</th>\n",
       "      <th>self_employed</th>\n",
       "      <th>income_annum</th>\n",
       "      <th>loan_amount</th>\n",
       "      <th>loan_term</th>\n",
       "      <th>cibil_score</th>\n",
       "      <th>residential_assets_value</th>\n",
       "      <th>commercial_assets_value</th>\n",
       "      <th>luxury_assets_value</th>\n",
       "      <th>bank_asset_value</th>\n",
       "      <th>loan_status</th>\n",
       "      <th>cibil_rating</th>\n",
       "      <th>income_level</th>\n",
       "      <th>loan_rating</th>\n",
       "    </tr>\n",
       "  </thead>\n",
       "  <tbody>\n",
       "    <tr>\n",
       "      <th>0</th>\n",
       "      <td>1</td>\n",
       "      <td>2</td>\n",
       "      <td>Graduate</td>\n",
       "      <td>No</td>\n",
       "      <td>9600000</td>\n",
       "      <td>29900000</td>\n",
       "      <td>12</td>\n",
       "      <td>778</td>\n",
       "      <td>2400000</td>\n",
       "      <td>17600000</td>\n",
       "      <td>22700000</td>\n",
       "      <td>8000000</td>\n",
       "      <td>Approved</td>\n",
       "      <td>Excellent</td>\n",
       "      <td>High</td>\n",
       "      <td>diamond</td>\n",
       "    </tr>\n",
       "    <tr>\n",
       "      <th>1</th>\n",
       "      <td>2</td>\n",
       "      <td>0</td>\n",
       "      <td>Not Graduate</td>\n",
       "      <td>Yes</td>\n",
       "      <td>4100000</td>\n",
       "      <td>12200000</td>\n",
       "      <td>8</td>\n",
       "      <td>417</td>\n",
       "      <td>2700000</td>\n",
       "      <td>2200000</td>\n",
       "      <td>8800000</td>\n",
       "      <td>3300000</td>\n",
       "      <td>Rejected</td>\n",
       "      <td>Poor</td>\n",
       "      <td>Upper Middle</td>\n",
       "      <td>Platinum</td>\n",
       "    </tr>\n",
       "  </tbody>\n",
       "</table>\n",
       "</div>"
      ],
      "text/plain": [
       "   loan_id  no_of_dependents      education self_employed  income_annum  \\\n",
       "0        1                 2       Graduate            No       9600000   \n",
       "1        2                 0   Not Graduate           Yes       4100000   \n",
       "\n",
       "   loan_amount  loan_term  cibil_score  residential_assets_value  \\\n",
       "0     29900000         12          778                   2400000   \n",
       "1     12200000          8          417                   2700000   \n",
       "\n",
       "   commercial_assets_value  luxury_assets_value  bank_asset_value loan_status  \\\n",
       "0                 17600000             22700000           8000000    Approved   \n",
       "1                  2200000              8800000           3300000    Rejected   \n",
       "\n",
       "  cibil_rating  income_level loan_rating  \n",
       "0    Excellent          High     diamond  \n",
       "1         Poor  Upper Middle    Platinum  "
      ]
     },
     "execution_count": 26,
     "metadata": {},
     "output_type": "execute_result"
    }
   ],
   "source": [
    "df[:2]"
   ]
  },
  {
   "cell_type": "code",
   "execution_count": 27,
   "id": "8819c492",
   "metadata": {
    "execution": {
     "iopub.execute_input": "2023-10-16T06:41:13.265654Z",
     "iopub.status.busy": "2023-10-16T06:41:13.265077Z",
     "iopub.status.idle": "2023-10-16T06:41:13.272084Z",
     "shell.execute_reply": "2023-10-16T06:41:13.271162Z"
    },
    "papermill": {
     "duration": 0.023552,
     "end_time": "2023-10-16T06:41:13.274439",
     "exception": false,
     "start_time": "2023-10-16T06:41:13.250887",
     "status": "completed"
    },
    "tags": []
   },
   "outputs": [
    {
     "data": {
      "text/plain": [
       "loan_term\n",
       "6     490\n",
       "12    456\n",
       "4     447\n",
       "10    436\n",
       "18    422\n",
       "16    412\n",
       "20    411\n",
       "14    405\n",
       "2     404\n",
       "8     386\n",
       "Name: count, dtype: int64"
      ]
     },
     "execution_count": 27,
     "metadata": {},
     "output_type": "execute_result"
    }
   ],
   "source": [
    "df.loan_term.value_counts()"
   ]
  },
  {
   "cell_type": "code",
   "execution_count": 28,
   "id": "12d59047",
   "metadata": {
    "execution": {
     "iopub.execute_input": "2023-10-16T06:41:13.302121Z",
     "iopub.status.busy": "2023-10-16T06:41:13.301783Z",
     "iopub.status.idle": "2023-10-16T06:41:13.306694Z",
     "shell.execute_reply": "2023-10-16T06:41:13.305422Z"
    },
    "papermill": {
     "duration": 0.02142,
     "end_time": "2023-10-16T06:41:13.308885",
     "exception": false,
     "start_time": "2023-10-16T06:41:13.287465",
     "status": "completed"
    },
    "tags": []
   },
   "outputs": [],
   "source": [
    "# loarn term range \n",
    "\n",
    "def loanterm_range(value):\n",
    "    if 2 <=value <=7:\n",
    "        return 'Short term'\n",
    "    if 8<=value<=14:\n",
    "        return 'intermediate'\n",
    "    else:\n",
    "        return 'long term'"
   ]
  },
  {
   "cell_type": "code",
   "execution_count": 29,
   "id": "f058bf0d",
   "metadata": {
    "execution": {
     "iopub.execute_input": "2023-10-16T06:41:13.336997Z",
     "iopub.status.busy": "2023-10-16T06:41:13.336640Z",
     "iopub.status.idle": "2023-10-16T06:41:13.343233Z",
     "shell.execute_reply": "2023-10-16T06:41:13.342311Z"
    },
    "papermill": {
     "duration": 0.023168,
     "end_time": "2023-10-16T06:41:13.345297",
     "exception": false,
     "start_time": "2023-10-16T06:41:13.322129",
     "status": "completed"
    },
    "tags": []
   },
   "outputs": [],
   "source": [
    "df['loanterm_type'] =df.loan_term.apply(loanterm_range)"
   ]
  },
  {
   "cell_type": "code",
   "execution_count": 30,
   "id": "bf0a363f",
   "metadata": {
    "execution": {
     "iopub.execute_input": "2023-10-16T06:41:13.372776Z",
     "iopub.status.busy": "2023-10-16T06:41:13.372402Z",
     "iopub.status.idle": "2023-10-16T06:41:13.386610Z",
     "shell.execute_reply": "2023-10-16T06:41:13.385608Z"
    },
    "papermill": {
     "duration": 0.030406,
     "end_time": "2023-10-16T06:41:13.388648",
     "exception": false,
     "start_time": "2023-10-16T06:41:13.358242",
     "status": "completed"
    },
    "tags": []
   },
   "outputs": [
    {
     "data": {
      "text/html": [
       "<div>\n",
       "<style scoped>\n",
       "    .dataframe tbody tr th:only-of-type {\n",
       "        vertical-align: middle;\n",
       "    }\n",
       "\n",
       "    .dataframe tbody tr th {\n",
       "        vertical-align: top;\n",
       "    }\n",
       "\n",
       "    .dataframe thead th {\n",
       "        text-align: right;\n",
       "    }\n",
       "</style>\n",
       "<table border=\"1\" class=\"dataframe\">\n",
       "  <thead>\n",
       "    <tr style=\"text-align: right;\">\n",
       "      <th></th>\n",
       "      <th>loan_id</th>\n",
       "      <th>no_of_dependents</th>\n",
       "      <th>education</th>\n",
       "      <th>self_employed</th>\n",
       "      <th>income_annum</th>\n",
       "      <th>loan_amount</th>\n",
       "      <th>loan_term</th>\n",
       "      <th>cibil_score</th>\n",
       "      <th>residential_assets_value</th>\n",
       "      <th>commercial_assets_value</th>\n",
       "      <th>luxury_assets_value</th>\n",
       "      <th>bank_asset_value</th>\n",
       "      <th>loan_status</th>\n",
       "      <th>cibil_rating</th>\n",
       "      <th>income_level</th>\n",
       "      <th>loan_rating</th>\n",
       "      <th>loanterm_type</th>\n",
       "    </tr>\n",
       "  </thead>\n",
       "  <tbody>\n",
       "    <tr>\n",
       "      <th>0</th>\n",
       "      <td>1</td>\n",
       "      <td>2</td>\n",
       "      <td>Graduate</td>\n",
       "      <td>No</td>\n",
       "      <td>9600000</td>\n",
       "      <td>29900000</td>\n",
       "      <td>12</td>\n",
       "      <td>778</td>\n",
       "      <td>2400000</td>\n",
       "      <td>17600000</td>\n",
       "      <td>22700000</td>\n",
       "      <td>8000000</td>\n",
       "      <td>Approved</td>\n",
       "      <td>Excellent</td>\n",
       "      <td>High</td>\n",
       "      <td>diamond</td>\n",
       "      <td>intermediate</td>\n",
       "    </tr>\n",
       "    <tr>\n",
       "      <th>1</th>\n",
       "      <td>2</td>\n",
       "      <td>0</td>\n",
       "      <td>Not Graduate</td>\n",
       "      <td>Yes</td>\n",
       "      <td>4100000</td>\n",
       "      <td>12200000</td>\n",
       "      <td>8</td>\n",
       "      <td>417</td>\n",
       "      <td>2700000</td>\n",
       "      <td>2200000</td>\n",
       "      <td>8800000</td>\n",
       "      <td>3300000</td>\n",
       "      <td>Rejected</td>\n",
       "      <td>Poor</td>\n",
       "      <td>Upper Middle</td>\n",
       "      <td>Platinum</td>\n",
       "      <td>intermediate</td>\n",
       "    </tr>\n",
       "  </tbody>\n",
       "</table>\n",
       "</div>"
      ],
      "text/plain": [
       "   loan_id  no_of_dependents      education self_employed  income_annum  \\\n",
       "0        1                 2       Graduate            No       9600000   \n",
       "1        2                 0   Not Graduate           Yes       4100000   \n",
       "\n",
       "   loan_amount  loan_term  cibil_score  residential_assets_value  \\\n",
       "0     29900000         12          778                   2400000   \n",
       "1     12200000          8          417                   2700000   \n",
       "\n",
       "   commercial_assets_value  luxury_assets_value  bank_asset_value loan_status  \\\n",
       "0                 17600000             22700000           8000000    Approved   \n",
       "1                  2200000              8800000           3300000    Rejected   \n",
       "\n",
       "  cibil_rating  income_level loan_rating loanterm_type  \n",
       "0    Excellent          High     diamond  intermediate  \n",
       "1         Poor  Upper Middle    Platinum  intermediate  "
      ]
     },
     "execution_count": 30,
     "metadata": {},
     "output_type": "execute_result"
    }
   ],
   "source": [
    "df[:2]"
   ]
  },
  {
   "cell_type": "code",
   "execution_count": 31,
   "id": "f11be202",
   "metadata": {
    "execution": {
     "iopub.execute_input": "2023-10-16T06:41:13.416300Z",
     "iopub.status.busy": "2023-10-16T06:41:13.415911Z",
     "iopub.status.idle": "2023-10-16T06:41:13.421157Z",
     "shell.execute_reply": "2023-10-16T06:41:13.419980Z"
    },
    "papermill": {
     "duration": 0.021678,
     "end_time": "2023-10-16T06:41:13.423258",
     "exception": false,
     "start_time": "2023-10-16T06:41:13.401580",
     "status": "completed"
    },
    "tags": []
   },
   "outputs": [],
   "source": [
    "# number of dependents\n",
    "def dependents(value):\n",
    "    if 0<= value <=1:\n",
    "        return 'low'\n",
    "    if 2<= value <= 3:\n",
    "        return 'Moderate'\n",
    "    else:\n",
    "        return 'high'\n",
    "    "
   ]
  },
  {
   "cell_type": "code",
   "execution_count": 32,
   "id": "cd027ac3",
   "metadata": {
    "execution": {
     "iopub.execute_input": "2023-10-16T06:41:13.450825Z",
     "iopub.status.busy": "2023-10-16T06:41:13.450151Z",
     "iopub.status.idle": "2023-10-16T06:41:13.457061Z",
     "shell.execute_reply": "2023-10-16T06:41:13.455901Z"
    },
    "papermill": {
     "duration": 0.022915,
     "end_time": "2023-10-16T06:41:13.459116",
     "exception": false,
     "start_time": "2023-10-16T06:41:13.436201",
     "status": "completed"
    },
    "tags": []
   },
   "outputs": [],
   "source": [
    "df['Dependents_level'] = df['no_of_dependents'].apply(dependents)"
   ]
  },
  {
   "cell_type": "code",
   "execution_count": 33,
   "id": "a59cea19",
   "metadata": {
    "execution": {
     "iopub.execute_input": "2023-10-16T06:41:13.487589Z",
     "iopub.status.busy": "2023-10-16T06:41:13.487216Z",
     "iopub.status.idle": "2023-10-16T06:41:13.502557Z",
     "shell.execute_reply": "2023-10-16T06:41:13.501503Z"
    },
    "papermill": {
     "duration": 0.032485,
     "end_time": "2023-10-16T06:41:13.504742",
     "exception": false,
     "start_time": "2023-10-16T06:41:13.472257",
     "status": "completed"
    },
    "tags": []
   },
   "outputs": [
    {
     "data": {
      "text/html": [
       "<div>\n",
       "<style scoped>\n",
       "    .dataframe tbody tr th:only-of-type {\n",
       "        vertical-align: middle;\n",
       "    }\n",
       "\n",
       "    .dataframe tbody tr th {\n",
       "        vertical-align: top;\n",
       "    }\n",
       "\n",
       "    .dataframe thead th {\n",
       "        text-align: right;\n",
       "    }\n",
       "</style>\n",
       "<table border=\"1\" class=\"dataframe\">\n",
       "  <thead>\n",
       "    <tr style=\"text-align: right;\">\n",
       "      <th></th>\n",
       "      <th>loan_id</th>\n",
       "      <th>no_of_dependents</th>\n",
       "      <th>education</th>\n",
       "      <th>self_employed</th>\n",
       "      <th>income_annum</th>\n",
       "      <th>loan_amount</th>\n",
       "      <th>loan_term</th>\n",
       "      <th>cibil_score</th>\n",
       "      <th>residential_assets_value</th>\n",
       "      <th>commercial_assets_value</th>\n",
       "      <th>luxury_assets_value</th>\n",
       "      <th>bank_asset_value</th>\n",
       "      <th>loan_status</th>\n",
       "      <th>cibil_rating</th>\n",
       "      <th>income_level</th>\n",
       "      <th>loan_rating</th>\n",
       "      <th>loanterm_type</th>\n",
       "      <th>Dependents_level</th>\n",
       "    </tr>\n",
       "  </thead>\n",
       "  <tbody>\n",
       "    <tr>\n",
       "      <th>0</th>\n",
       "      <td>1</td>\n",
       "      <td>2</td>\n",
       "      <td>Graduate</td>\n",
       "      <td>No</td>\n",
       "      <td>9600000</td>\n",
       "      <td>29900000</td>\n",
       "      <td>12</td>\n",
       "      <td>778</td>\n",
       "      <td>2400000</td>\n",
       "      <td>17600000</td>\n",
       "      <td>22700000</td>\n",
       "      <td>8000000</td>\n",
       "      <td>Approved</td>\n",
       "      <td>Excellent</td>\n",
       "      <td>High</td>\n",
       "      <td>diamond</td>\n",
       "      <td>intermediate</td>\n",
       "      <td>Moderate</td>\n",
       "    </tr>\n",
       "    <tr>\n",
       "      <th>1</th>\n",
       "      <td>2</td>\n",
       "      <td>0</td>\n",
       "      <td>Not Graduate</td>\n",
       "      <td>Yes</td>\n",
       "      <td>4100000</td>\n",
       "      <td>12200000</td>\n",
       "      <td>8</td>\n",
       "      <td>417</td>\n",
       "      <td>2700000</td>\n",
       "      <td>2200000</td>\n",
       "      <td>8800000</td>\n",
       "      <td>3300000</td>\n",
       "      <td>Rejected</td>\n",
       "      <td>Poor</td>\n",
       "      <td>Upper Middle</td>\n",
       "      <td>Platinum</td>\n",
       "      <td>intermediate</td>\n",
       "      <td>low</td>\n",
       "    </tr>\n",
       "  </tbody>\n",
       "</table>\n",
       "</div>"
      ],
      "text/plain": [
       "   loan_id  no_of_dependents      education self_employed  income_annum  \\\n",
       "0        1                 2       Graduate            No       9600000   \n",
       "1        2                 0   Not Graduate           Yes       4100000   \n",
       "\n",
       "   loan_amount  loan_term  cibil_score  residential_assets_value  \\\n",
       "0     29900000         12          778                   2400000   \n",
       "1     12200000          8          417                   2700000   \n",
       "\n",
       "   commercial_assets_value  luxury_assets_value  bank_asset_value loan_status  \\\n",
       "0                 17600000             22700000           8000000    Approved   \n",
       "1                  2200000              8800000           3300000    Rejected   \n",
       "\n",
       "  cibil_rating  income_level loan_rating loanterm_type Dependents_level  \n",
       "0    Excellent          High     diamond  intermediate         Moderate  \n",
       "1         Poor  Upper Middle    Platinum  intermediate              low  "
      ]
     },
     "execution_count": 33,
     "metadata": {},
     "output_type": "execute_result"
    }
   ],
   "source": [
    "df[:2]"
   ]
  },
  {
   "cell_type": "code",
   "execution_count": 34,
   "id": "a531fed0",
   "metadata": {
    "execution": {
     "iopub.execute_input": "2023-10-16T06:41:13.533499Z",
     "iopub.status.busy": "2023-10-16T06:41:13.532589Z",
     "iopub.status.idle": "2023-10-16T06:41:13.541932Z",
     "shell.execute_reply": "2023-10-16T06:41:13.540860Z"
    },
    "papermill": {
     "duration": 0.025767,
     "end_time": "2023-10-16T06:41:13.544003",
     "exception": false,
     "start_time": "2023-10-16T06:41:13.518236",
     "status": "completed"
    },
    "tags": []
   },
   "outputs": [
    {
     "data": {
      "text/plain": [
       "cibil_rating\n",
       "Poor         1785\n",
       "Excellent    1056\n",
       "Good          745\n",
       "Averge        683\n",
       "Name: count, dtype: int64"
      ]
     },
     "execution_count": 34,
     "metadata": {},
     "output_type": "execute_result"
    }
   ],
   "source": [
    "df.cibil_rating.value_counts()"
   ]
  },
  {
   "cell_type": "markdown",
   "id": "af793354",
   "metadata": {
    "papermill": {
     "duration": 0.013635,
     "end_time": "2023-10-16T06:41:13.571574",
     "exception": false,
     "start_time": "2023-10-16T06:41:13.557939",
     "status": "completed"
    },
    "tags": []
   },
   "source": [
    "## Exploratory analysis"
   ]
  },
  {
   "cell_type": "code",
   "execution_count": 35,
   "id": "f5d3fb41",
   "metadata": {
    "execution": {
     "iopub.execute_input": "2023-10-16T06:41:13.601037Z",
     "iopub.status.busy": "2023-10-16T06:41:13.600692Z",
     "iopub.status.idle": "2023-10-16T06:41:13.809444Z",
     "shell.execute_reply": "2023-10-16T06:41:13.808029Z"
    },
    "papermill": {
     "duration": 0.228143,
     "end_time": "2023-10-16T06:41:13.813890",
     "exception": false,
     "start_time": "2023-10-16T06:41:13.585747",
     "status": "completed"
    },
    "tags": []
   },
   "outputs": [
    {
     "data": {
      "image/png": "[encoded data removed]",
      "text/plain": [
       "<Figure size 640x480 with 1 Axes>"
      ]
     },
     "metadata": {},
     "output_type": "display_data"
    }
   ],
   "source": [
    "income = df['income_level'].value_counts().reset_index()#.plot(kind='bar',subplots=True)\n",
    "income\n",
    "\n",
    "# sns.countplot(data=income,x='count')\n",
    "plt.pie(income['count'],labels=income['income_level'],autopct='%2.0f%%',shadow=True,counterclock=False,labeldistance=.75,startangle=92)\n",
    "plt.show()"
   ]
  },
  {
   "cell_type": "markdown",
   "id": "f591efab",
   "metadata": {
    "papermill": {
     "duration": 0.015997,
     "end_time": "2023-10-16T06:41:13.872359",
     "exception": false,
     "start_time": "2023-10-16T06:41:13.856362",
     "status": "completed"
    },
    "tags": []
   },
   "source": []
  },
  {
   "cell_type": "code",
   "execution_count": 36,
   "id": "697dd6a0",
   "metadata": {
    "execution": {
     "iopub.execute_input": "2023-10-16T06:41:13.903323Z",
     "iopub.status.busy": "2023-10-16T06:41:13.902792Z",
     "iopub.status.idle": "2023-10-16T06:41:14.062225Z",
     "shell.execute_reply": "2023-10-16T06:41:14.060497Z"
    },
    "papermill": {
     "duration": 0.179615,
     "end_time": "2023-10-16T06:41:14.066593",
     "exception": false,
     "start_time": "2023-10-16T06:41:13.886978",
     "status": "completed"
    },
    "tags": []
   },
   "outputs": [
    {
     "data": {
      "text/plain": [
       "<Axes: ylabel='count'>"
      ]
     },
     "execution_count": 36,
     "metadata": {},
     "output_type": "execute_result"
    },
    {
     "data": {
      "image/png": "[encoded data removed]",
      "text/plain": [
       "<Figure size 640x480 with 1 Axes>"
      ]
     },
     "metadata": {},
     "output_type": "display_data"
    }
   ],
   "source": [
    "df.Dependents_level.value_counts().plot(kind='pie',autopct=\"%2.0f%%\")\n"
   ]
  },
  {
   "cell_type": "code",
   "execution_count": 37,
   "id": "81870db5",
   "metadata": {
    "execution": {
     "iopub.execute_input": "2023-10-16T06:41:14.139860Z",
     "iopub.status.busy": "2023-10-16T06:41:14.138574Z",
     "iopub.status.idle": "2023-10-16T06:41:14.153442Z",
     "shell.execute_reply": "2023-10-16T06:41:14.152376Z"
    },
    "papermill": {
     "duration": 0.044462,
     "end_time": "2023-10-16T06:41:14.155636",
     "exception": false,
     "start_time": "2023-10-16T06:41:14.111174",
     "status": "completed"
    },
    "tags": []
   },
   "outputs": [
    {
     "data": {
      "text/html": [
       "<div>\n",
       "<style scoped>\n",
       "    .dataframe tbody tr th:only-of-type {\n",
       "        vertical-align: middle;\n",
       "    }\n",
       "\n",
       "    .dataframe tbody tr th {\n",
       "        vertical-align: top;\n",
       "    }\n",
       "\n",
       "    .dataframe thead th {\n",
       "        text-align: right;\n",
       "    }\n",
       "</style>\n",
       "<table border=\"1\" class=\"dataframe\">\n",
       "  <thead>\n",
       "    <tr style=\"text-align: right;\">\n",
       "      <th></th>\n",
       "      <th>loan_id</th>\n",
       "      <th>no_of_dependents</th>\n",
       "      <th>education</th>\n",
       "      <th>self_employed</th>\n",
       "      <th>income_annum</th>\n",
       "      <th>loan_amount</th>\n",
       "      <th>loan_term</th>\n",
       "      <th>cibil_score</th>\n",
       "      <th>residential_assets_value</th>\n",
       "      <th>commercial_assets_value</th>\n",
       "      <th>luxury_assets_value</th>\n",
       "      <th>bank_asset_value</th>\n",
       "      <th>loan_status</th>\n",
       "      <th>cibil_rating</th>\n",
       "      <th>income_level</th>\n",
       "      <th>loan_rating</th>\n",
       "      <th>loanterm_type</th>\n",
       "      <th>Dependents_level</th>\n",
       "    </tr>\n",
       "  </thead>\n",
       "  <tbody>\n",
       "    <tr>\n",
       "      <th>0</th>\n",
       "      <td>1</td>\n",
       "      <td>2</td>\n",
       "      <td>Graduate</td>\n",
       "      <td>No</td>\n",
       "      <td>9600000</td>\n",
       "      <td>29900000</td>\n",
       "      <td>12</td>\n",
       "      <td>778</td>\n",
       "      <td>2400000</td>\n",
       "      <td>17600000</td>\n",
       "      <td>22700000</td>\n",
       "      <td>8000000</td>\n",
       "      <td>Approved</td>\n",
       "      <td>Excellent</td>\n",
       "      <td>High</td>\n",
       "      <td>diamond</td>\n",
       "      <td>intermediate</td>\n",
       "      <td>Moderate</td>\n",
       "    </tr>\n",
       "    <tr>\n",
       "      <th>1</th>\n",
       "      <td>2</td>\n",
       "      <td>0</td>\n",
       "      <td>Not Graduate</td>\n",
       "      <td>Yes</td>\n",
       "      <td>4100000</td>\n",
       "      <td>12200000</td>\n",
       "      <td>8</td>\n",
       "      <td>417</td>\n",
       "      <td>2700000</td>\n",
       "      <td>2200000</td>\n",
       "      <td>8800000</td>\n",
       "      <td>3300000</td>\n",
       "      <td>Rejected</td>\n",
       "      <td>Poor</td>\n",
       "      <td>Upper Middle</td>\n",
       "      <td>Platinum</td>\n",
       "      <td>intermediate</td>\n",
       "      <td>low</td>\n",
       "    </tr>\n",
       "  </tbody>\n",
       "</table>\n",
       "</div>"
      ],
      "text/plain": [
       "   loan_id  no_of_dependents      education self_employed  income_annum  \\\n",
       "0        1                 2       Graduate            No       9600000   \n",
       "1        2                 0   Not Graduate           Yes       4100000   \n",
       "\n",
       "   loan_amount  loan_term  cibil_score  residential_assets_value  \\\n",
       "0     29900000         12          778                   2400000   \n",
       "1     12200000          8          417                   2700000   \n",
       "\n",
       "   commercial_assets_value  luxury_assets_value  bank_asset_value loan_status  \\\n",
       "0                 17600000             22700000           8000000    Approved   \n",
       "1                  2200000              8800000           3300000    Rejected   \n",
       "\n",
       "  cibil_rating  income_level loan_rating loanterm_type Dependents_level  \n",
       "0    Excellent          High     diamond  intermediate         Moderate  \n",
       "1         Poor  Upper Middle    Platinum  intermediate              low  "
      ]
     },
     "execution_count": 37,
     "metadata": {},
     "output_type": "execute_result"
    }
   ],
   "source": [
    "df[:2]"
   ]
  },
  {
   "cell_type": "code",
   "execution_count": 38,
   "id": "115fd644",
   "metadata": {
    "execution": {
     "iopub.execute_input": "2023-10-16T06:41:14.187688Z",
     "iopub.status.busy": "2023-10-16T06:41:14.187078Z",
     "iopub.status.idle": "2023-10-16T06:41:14.483813Z",
     "shell.execute_reply": "2023-10-16T06:41:14.482710Z"
    },
    "papermill": {
     "duration": 0.314825,
     "end_time": "2023-10-16T06:41:14.485949",
     "exception": false,
     "start_time": "2023-10-16T06:41:14.171124",
     "status": "completed"
    },
    "tags": []
   },
   "outputs": [
    {
     "data": {
      "text/plain": [
       "<Axes: xlabel='education', ylabel='0'>"
      ]
     },
     "execution_count": 38,
     "metadata": {},
     "output_type": "execute_result"
    },
    {
     "data": {
      "image/png": "[encoded data removed]",
      "text/plain": [
       "<Figure size 640x480 with 1 Axes>"
      ]
     },
     "metadata": {},
     "output_type": "display_data"
    }
   ],
   "source": [
    "education = df.groupby(['education','loan_status']).size().reset_index()\n",
    "education\n",
    "sns.barplot(education,x='education',y=0,hue='loan_status')"
   ]
  },
  {
   "cell_type": "code",
   "execution_count": 39,
   "id": "c9d921d3",
   "metadata": {
    "execution": {
     "iopub.execute_input": "2023-10-16T06:41:14.517377Z",
     "iopub.status.busy": "2023-10-16T06:41:14.517034Z",
     "iopub.status.idle": "2023-10-16T06:41:14.529490Z",
     "shell.execute_reply": "2023-10-16T06:41:14.528804Z"
    },
    "papermill": {
     "duration": 0.030581,
     "end_time": "2023-10-16T06:41:14.531460",
     "exception": false,
     "start_time": "2023-10-16T06:41:14.500879",
     "status": "completed"
    },
    "tags": []
   },
   "outputs": [
    {
     "data": {
      "text/html": [
       "<div>\n",
       "<style scoped>\n",
       "    .dataframe tbody tr th:only-of-type {\n",
       "        vertical-align: middle;\n",
       "    }\n",
       "\n",
       "    .dataframe tbody tr th {\n",
       "        vertical-align: top;\n",
       "    }\n",
       "\n",
       "    .dataframe thead th {\n",
       "        text-align: right;\n",
       "    }\n",
       "</style>\n",
       "<table border=\"1\" class=\"dataframe\">\n",
       "  <thead>\n",
       "    <tr style=\"text-align: right;\">\n",
       "      <th>loan_status</th>\n",
       "      <th>Approved</th>\n",
       "      <th>Rejected</th>\n",
       "    </tr>\n",
       "    <tr>\n",
       "      <th>education</th>\n",
       "      <th></th>\n",
       "      <th></th>\n",
       "    </tr>\n",
       "  </thead>\n",
       "  <tbody>\n",
       "    <tr>\n",
       "      <th>Graduate</th>\n",
       "      <td>1339</td>\n",
       "      <td>805</td>\n",
       "    </tr>\n",
       "    <tr>\n",
       "      <th>Not Graduate</th>\n",
       "      <td>1317</td>\n",
       "      <td>808</td>\n",
       "    </tr>\n",
       "  </tbody>\n",
       "</table>\n",
       "</div>"
      ],
      "text/plain": [
       "loan_status     Approved   Rejected\n",
       "education                          \n",
       " Graduate           1339        805\n",
       " Not Graduate       1317        808"
      ]
     },
     "execution_count": 39,
     "metadata": {},
     "output_type": "execute_result"
    }
   ],
   "source": [
    "pivot_table = education.pivot(index = 'education',columns='loan_status',values=0)\n",
    "pivot_table"
   ]
  },
  {
   "cell_type": "code",
   "execution_count": 40,
   "id": "23f787f1",
   "metadata": {
    "execution": {
     "iopub.execute_input": "2023-10-16T06:41:14.563509Z",
     "iopub.status.busy": "2023-10-16T06:41:14.562863Z",
     "iopub.status.idle": "2023-10-16T06:41:14.570159Z",
     "shell.execute_reply": "2023-10-16T06:41:14.569350Z"
    },
    "papermill": {
     "duration": 0.025458,
     "end_time": "2023-10-16T06:41:14.571932",
     "exception": false,
     "start_time": "2023-10-16T06:41:14.546474",
     "status": "completed"
    },
    "tags": []
   },
   "outputs": [
    {
     "data": {
      "text/plain": [
       "education\n",
       " Graduate        2144\n",
       " Not Graduate    2125\n",
       "dtype: int64"
      ]
     },
     "execution_count": 40,
     "metadata": {},
     "output_type": "execute_result"
    }
   ],
   "source": [
    "row_totals = pivot_table.sum(axis=1)\n",
    "row_totals"
   ]
  },
  {
   "cell_type": "code",
   "execution_count": 41,
   "id": "c9fc9135",
   "metadata": {
    "execution": {
     "iopub.execute_input": "2023-10-16T06:41:14.604778Z",
     "iopub.status.busy": "2023-10-16T06:41:14.604161Z",
     "iopub.status.idle": "2023-10-16T06:41:14.612610Z",
     "shell.execute_reply": "2023-10-16T06:41:14.611936Z"
    },
    "papermill": {
     "duration": 0.027512,
     "end_time": "2023-10-16T06:41:14.614482",
     "exception": false,
     "start_time": "2023-10-16T06:41:14.586970",
     "status": "completed"
    },
    "tags": []
   },
   "outputs": [
    {
     "data": {
      "text/html": [
       "<div>\n",
       "<style scoped>\n",
       "    .dataframe tbody tr th:only-of-type {\n",
       "        vertical-align: middle;\n",
       "    }\n",
       "\n",
       "    .dataframe tbody tr th {\n",
       "        vertical-align: top;\n",
       "    }\n",
       "\n",
       "    .dataframe thead th {\n",
       "        text-align: right;\n",
       "    }\n",
       "</style>\n",
       "<table border=\"1\" class=\"dataframe\">\n",
       "  <thead>\n",
       "    <tr style=\"text-align: right;\">\n",
       "      <th>loan_status</th>\n",
       "      <th>Approved</th>\n",
       "      <th>Rejected</th>\n",
       "    </tr>\n",
       "    <tr>\n",
       "      <th>education</th>\n",
       "      <th></th>\n",
       "      <th></th>\n",
       "    </tr>\n",
       "  </thead>\n",
       "  <tbody>\n",
       "    <tr>\n",
       "      <th>Graduate</th>\n",
       "      <td>62.453358</td>\n",
       "      <td>37.546642</td>\n",
       "    </tr>\n",
       "    <tr>\n",
       "      <th>Not Graduate</th>\n",
       "      <td>61.976471</td>\n",
       "      <td>38.023529</td>\n",
       "    </tr>\n",
       "  </tbody>\n",
       "</table>\n",
       "</div>"
      ],
      "text/plain": [
       "loan_status     Approved   Rejected\n",
       "education                          \n",
       " Graduate      62.453358  37.546642\n",
       " Not Graduate  61.976471  38.023529"
      ]
     },
     "execution_count": 41,
     "metadata": {},
     "output_type": "execute_result"
    }
   ],
   "source": [
    "percentage = pivot_table.div(row_totals,axis=0)*100\n",
    "percentage"
   ]
  },
  {
   "cell_type": "code",
   "execution_count": 42,
   "id": "664f87cf",
   "metadata": {
    "execution": {
     "iopub.execute_input": "2023-10-16T06:41:14.648714Z",
     "iopub.status.busy": "2023-10-16T06:41:14.647995Z",
     "iopub.status.idle": "2023-10-16T06:41:14.922083Z",
     "shell.execute_reply": "2023-10-16T06:41:14.921317Z"
    },
    "papermill": {
     "duration": 0.293419,
     "end_time": "2023-10-16T06:41:14.923999",
     "exception": false,
     "start_time": "2023-10-16T06:41:14.630580",
     "status": "completed"
    },
    "tags": []
   },
   "outputs": [
    {
     "data": {
      "text/plain": [
       "<Axes: xlabel='loan_status', ylabel='education'>"
      ]
     },
     "execution_count": 42,
     "metadata": {},
     "output_type": "execute_result"
    },
    {
     "data": {
      "image/png": "[encoded data removed]",
      "text/plain": [
       "<Figure size 640x480 with 2 Axes>"
      ]
     },
     "metadata": {},
     "output_type": "display_data"
    }
   ],
   "source": [
    "sns.heatmap(percentage,annot=True,cmap='coolwarm',linewidths=.5,fmt = '.1f')"
   ]
  },
  {
   "cell_type": "code",
   "execution_count": 43,
   "id": "b4a3dd04",
   "metadata": {
    "execution": {
     "iopub.execute_input": "2023-10-16T06:41:14.958790Z",
     "iopub.status.busy": "2023-10-16T06:41:14.958364Z",
     "iopub.status.idle": "2023-10-16T06:41:14.973569Z",
     "shell.execute_reply": "2023-10-16T06:41:14.972441Z"
    },
    "papermill": {
     "duration": 0.034984,
     "end_time": "2023-10-16T06:41:14.975688",
     "exception": false,
     "start_time": "2023-10-16T06:41:14.940704",
     "status": "completed"
    },
    "tags": []
   },
   "outputs": [
    {
     "data": {
      "text/html": [
       "<div>\n",
       "<style scoped>\n",
       "    .dataframe tbody tr th:only-of-type {\n",
       "        vertical-align: middle;\n",
       "    }\n",
       "\n",
       "    .dataframe tbody tr th {\n",
       "        vertical-align: top;\n",
       "    }\n",
       "\n",
       "    .dataframe thead th {\n",
       "        text-align: right;\n",
       "    }\n",
       "</style>\n",
       "<table border=\"1\" class=\"dataframe\">\n",
       "  <thead>\n",
       "    <tr style=\"text-align: right;\">\n",
       "      <th></th>\n",
       "      <th>loan_id</th>\n",
       "      <th>no_of_dependents</th>\n",
       "      <th>education</th>\n",
       "      <th>self_employed</th>\n",
       "      <th>income_annum</th>\n",
       "      <th>loan_amount</th>\n",
       "      <th>loan_term</th>\n",
       "      <th>cibil_score</th>\n",
       "      <th>residential_assets_value</th>\n",
       "      <th>commercial_assets_value</th>\n",
       "      <th>luxury_assets_value</th>\n",
       "      <th>bank_asset_value</th>\n",
       "      <th>loan_status</th>\n",
       "      <th>cibil_rating</th>\n",
       "      <th>income_level</th>\n",
       "      <th>loan_rating</th>\n",
       "      <th>loanterm_type</th>\n",
       "      <th>Dependents_level</th>\n",
       "    </tr>\n",
       "  </thead>\n",
       "  <tbody>\n",
       "    <tr>\n",
       "      <th>0</th>\n",
       "      <td>1</td>\n",
       "      <td>2</td>\n",
       "      <td>Graduate</td>\n",
       "      <td>No</td>\n",
       "      <td>9600000</td>\n",
       "      <td>29900000</td>\n",
       "      <td>12</td>\n",
       "      <td>778</td>\n",
       "      <td>2400000</td>\n",
       "      <td>17600000</td>\n",
       "      <td>22700000</td>\n",
       "      <td>8000000</td>\n",
       "      <td>Approved</td>\n",
       "      <td>Excellent</td>\n",
       "      <td>High</td>\n",
       "      <td>diamond</td>\n",
       "      <td>intermediate</td>\n",
       "      <td>Moderate</td>\n",
       "    </tr>\n",
       "    <tr>\n",
       "      <th>1</th>\n",
       "      <td>2</td>\n",
       "      <td>0</td>\n",
       "      <td>Not Graduate</td>\n",
       "      <td>Yes</td>\n",
       "      <td>4100000</td>\n",
       "      <td>12200000</td>\n",
       "      <td>8</td>\n",
       "      <td>417</td>\n",
       "      <td>2700000</td>\n",
       "      <td>2200000</td>\n",
       "      <td>8800000</td>\n",
       "      <td>3300000</td>\n",
       "      <td>Rejected</td>\n",
       "      <td>Poor</td>\n",
       "      <td>Upper Middle</td>\n",
       "      <td>Platinum</td>\n",
       "      <td>intermediate</td>\n",
       "      <td>low</td>\n",
       "    </tr>\n",
       "  </tbody>\n",
       "</table>\n",
       "</div>"
      ],
      "text/plain": [
       "   loan_id  no_of_dependents      education self_employed  income_annum  \\\n",
       "0        1                 2       Graduate            No       9600000   \n",
       "1        2                 0   Not Graduate           Yes       4100000   \n",
       "\n",
       "   loan_amount  loan_term  cibil_score  residential_assets_value  \\\n",
       "0     29900000         12          778                   2400000   \n",
       "1     12200000          8          417                   2700000   \n",
       "\n",
       "   commercial_assets_value  luxury_assets_value  bank_asset_value loan_status  \\\n",
       "0                 17600000             22700000           8000000    Approved   \n",
       "1                  2200000              8800000           3300000    Rejected   \n",
       "\n",
       "  cibil_rating  income_level loan_rating loanterm_type Dependents_level  \n",
       "0    Excellent          High     diamond  intermediate         Moderate  \n",
       "1         Poor  Upper Middle    Platinum  intermediate              low  "
      ]
     },
     "execution_count": 43,
     "metadata": {},
     "output_type": "execute_result"
    }
   ],
   "source": [
    "df[:2]"
   ]
  },
  {
   "cell_type": "code",
   "execution_count": 44,
   "id": "9d26ec8e",
   "metadata": {
    "execution": {
     "iopub.execute_input": "2023-10-16T06:41:15.010932Z",
     "iopub.status.busy": "2023-10-16T06:41:15.009897Z",
     "iopub.status.idle": "2023-10-16T06:41:15.023719Z",
     "shell.execute_reply": "2023-10-16T06:41:15.022607Z"
    },
    "papermill": {
     "duration": 0.034137,
     "end_time": "2023-10-16T06:41:15.025934",
     "exception": false,
     "start_time": "2023-10-16T06:41:14.991797",
     "status": "completed"
    },
    "tags": []
   },
   "outputs": [
    {
     "data": {
      "text/html": [
       "<div>\n",
       "<style scoped>\n",
       "    .dataframe tbody tr th:only-of-type {\n",
       "        vertical-align: middle;\n",
       "    }\n",
       "\n",
       "    .dataframe tbody tr th {\n",
       "        vertical-align: top;\n",
       "    }\n",
       "\n",
       "    .dataframe thead th {\n",
       "        text-align: right;\n",
       "    }\n",
       "</style>\n",
       "<table border=\"1\" class=\"dataframe\">\n",
       "  <thead>\n",
       "    <tr style=\"text-align: right;\">\n",
       "      <th></th>\n",
       "      <th>self_employed</th>\n",
       "      <th>loan_status</th>\n",
       "      <th>0</th>\n",
       "    </tr>\n",
       "  </thead>\n",
       "  <tbody>\n",
       "    <tr>\n",
       "      <th>0</th>\n",
       "      <td>No</td>\n",
       "      <td>Approved</td>\n",
       "      <td>1318</td>\n",
       "    </tr>\n",
       "    <tr>\n",
       "      <th>1</th>\n",
       "      <td>No</td>\n",
       "      <td>Rejected</td>\n",
       "      <td>801</td>\n",
       "    </tr>\n",
       "    <tr>\n",
       "      <th>2</th>\n",
       "      <td>Yes</td>\n",
       "      <td>Approved</td>\n",
       "      <td>1338</td>\n",
       "    </tr>\n",
       "    <tr>\n",
       "      <th>3</th>\n",
       "      <td>Yes</td>\n",
       "      <td>Rejected</td>\n",
       "      <td>812</td>\n",
       "    </tr>\n",
       "  </tbody>\n",
       "</table>\n",
       "</div>"
      ],
      "text/plain": [
       "  self_employed loan_status     0\n",
       "0            No    Approved  1318\n",
       "1            No    Rejected   801\n",
       "2           Yes    Approved  1338\n",
       "3           Yes    Rejected   812"
      ]
     },
     "execution_count": 44,
     "metadata": {},
     "output_type": "execute_result"
    }
   ],
   "source": [
    "employment_type = df.groupby(['self_employed','loan_status']).size().reset_index()\n",
    "employment_type"
   ]
  },
  {
   "cell_type": "code",
   "execution_count": 45,
   "id": "1c99e670",
   "metadata": {
    "execution": {
     "iopub.execute_input": "2023-10-16T06:41:15.060191Z",
     "iopub.status.busy": "2023-10-16T06:41:15.059843Z",
     "iopub.status.idle": "2023-10-16T06:41:15.070522Z",
     "shell.execute_reply": "2023-10-16T06:41:15.069790Z"
    },
    "papermill": {
     "duration": 0.030088,
     "end_time": "2023-10-16T06:41:15.072536",
     "exception": false,
     "start_time": "2023-10-16T06:41:15.042448",
     "status": "completed"
    },
    "tags": []
   },
   "outputs": [
    {
     "data": {
      "text/html": [
       "<div>\n",
       "<style scoped>\n",
       "    .dataframe tbody tr th:only-of-type {\n",
       "        vertical-align: middle;\n",
       "    }\n",
       "\n",
       "    .dataframe tbody tr th {\n",
       "        vertical-align: top;\n",
       "    }\n",
       "\n",
       "    .dataframe thead th {\n",
       "        text-align: right;\n",
       "    }\n",
       "</style>\n",
       "<table border=\"1\" class=\"dataframe\">\n",
       "  <thead>\n",
       "    <tr style=\"text-align: right;\">\n",
       "      <th>loan_status</th>\n",
       "      <th>Approved</th>\n",
       "      <th>Rejected</th>\n",
       "    </tr>\n",
       "    <tr>\n",
       "      <th>self_employed</th>\n",
       "      <th></th>\n",
       "      <th></th>\n",
       "    </tr>\n",
       "  </thead>\n",
       "  <tbody>\n",
       "    <tr>\n",
       "      <th>No</th>\n",
       "      <td>1318</td>\n",
       "      <td>801</td>\n",
       "    </tr>\n",
       "    <tr>\n",
       "      <th>Yes</th>\n",
       "      <td>1338</td>\n",
       "      <td>812</td>\n",
       "    </tr>\n",
       "  </tbody>\n",
       "</table>\n",
       "</div>"
      ],
      "text/plain": [
       "loan_status     Approved   Rejected\n",
       "self_employed                      \n",
       " No                 1318        801\n",
       " Yes                1338        812"
      ]
     },
     "execution_count": 45,
     "metadata": {},
     "output_type": "execute_result"
    }
   ],
   "source": [
    "pivotavle_ = employment_type.pivot(index = 'self_employed',columns='loan_status',values=0)\n",
    "pivotavle_"
   ]
  },
  {
   "cell_type": "code",
   "execution_count": 46,
   "id": "36afabfc",
   "metadata": {
    "execution": {
     "iopub.execute_input": "2023-10-16T06:41:15.107448Z",
     "iopub.status.busy": "2023-10-16T06:41:15.106460Z",
     "iopub.status.idle": "2023-10-16T06:41:15.113135Z",
     "shell.execute_reply": "2023-10-16T06:41:15.112444Z"
    },
    "papermill": {
     "duration": 0.026037,
     "end_time": "2023-10-16T06:41:15.114876",
     "exception": false,
     "start_time": "2023-10-16T06:41:15.088839",
     "status": "completed"
    },
    "tags": []
   },
   "outputs": [
    {
     "data": {
      "text/plain": [
       "loan_status\n",
       " Approved    2656\n",
       " Rejected    1613\n",
       "dtype: int64"
      ]
     },
     "execution_count": 46,
     "metadata": {},
     "output_type": "execute_result"
    }
   ],
   "source": [
    "rowtotal_ = pivot_table.sum()\n",
    "rowtotal_"
   ]
  },
  {
   "cell_type": "code",
   "execution_count": 47,
   "id": "72deca7b",
   "metadata": {
    "execution": {
     "iopub.execute_input": "2023-10-16T06:41:15.149086Z",
     "iopub.status.busy": "2023-10-16T06:41:15.148189Z",
     "iopub.status.idle": "2023-10-16T06:41:15.157493Z",
     "shell.execute_reply": "2023-10-16T06:41:15.156764Z"
    },
    "papermill": {
     "duration": 0.028658,
     "end_time": "2023-10-16T06:41:15.159651",
     "exception": false,
     "start_time": "2023-10-16T06:41:15.130993",
     "status": "completed"
    },
    "tags": []
   },
   "outputs": [
    {
     "data": {
      "text/html": [
       "<div>\n",
       "<style scoped>\n",
       "    .dataframe tbody tr th:only-of-type {\n",
       "        vertical-align: middle;\n",
       "    }\n",
       "\n",
       "    .dataframe tbody tr th {\n",
       "        vertical-align: top;\n",
       "    }\n",
       "\n",
       "    .dataframe thead th {\n",
       "        text-align: right;\n",
       "    }\n",
       "</style>\n",
       "<table border=\"1\" class=\"dataframe\">\n",
       "  <thead>\n",
       "    <tr style=\"text-align: right;\">\n",
       "      <th>loan_status</th>\n",
       "      <th>Approved</th>\n",
       "      <th>Rejected</th>\n",
       "    </tr>\n",
       "    <tr>\n",
       "      <th>education</th>\n",
       "      <th></th>\n",
       "      <th></th>\n",
       "    </tr>\n",
       "  </thead>\n",
       "  <tbody>\n",
       "    <tr>\n",
       "      <th>Graduate</th>\n",
       "      <td>50.414157</td>\n",
       "      <td>49.907006</td>\n",
       "    </tr>\n",
       "    <tr>\n",
       "      <th>Not Graduate</th>\n",
       "      <td>49.585843</td>\n",
       "      <td>50.092994</td>\n",
       "    </tr>\n",
       "  </tbody>\n",
       "</table>\n",
       "</div>"
      ],
      "text/plain": [
       "loan_status     Approved   Rejected\n",
       "education                          \n",
       " Graduate      50.414157  49.907006\n",
       " Not Graduate  49.585843  50.092994"
      ]
     },
     "execution_count": 47,
     "metadata": {},
     "output_type": "execute_result"
    }
   ],
   "source": [
    "percentage_ = pivot_table.div(rowtotal_)*100\n",
    "percentage_"
   ]
  },
  {
   "cell_type": "code",
   "execution_count": 48,
   "id": "645eb648",
   "metadata": {
    "execution": {
     "iopub.execute_input": "2023-10-16T06:41:15.193999Z",
     "iopub.status.busy": "2023-10-16T06:41:15.193333Z",
     "iopub.status.idle": "2023-10-16T06:41:15.495220Z",
     "shell.execute_reply": "2023-10-16T06:41:15.494240Z"
    },
    "papermill": {
     "duration": 0.321816,
     "end_time": "2023-10-16T06:41:15.497706",
     "exception": false,
     "start_time": "2023-10-16T06:41:15.175890",
     "status": "completed"
    },
    "tags": []
   },
   "outputs": [
    {
     "data": {
      "text/plain": [
       "<Axes: xlabel='loan_status', ylabel='education'>"
      ]
     },
     "execution_count": 48,
     "metadata": {},
     "output_type": "execute_result"
    },
    {
     "data": {
      "image/png": "[encoded data removed]",
      "text/plain": [
       "<Figure size 640x480 with 2 Axes>"
      ]
     },
     "metadata": {},
     "output_type": "display_data"
    }
   ],
   "source": [
    "sns.heatmap(percentage_, annot=True , fmt = '.1f')"
   ]
  },
  {
   "cell_type": "code",
   "execution_count": 49,
   "id": "841a9c6c",
   "metadata": {
    "execution": {
     "iopub.execute_input": "2023-10-16T06:41:15.539645Z",
     "iopub.status.busy": "2023-10-16T06:41:15.539248Z",
     "iopub.status.idle": "2023-10-16T06:41:15.556152Z",
     "shell.execute_reply": "2023-10-16T06:41:15.555101Z"
    },
    "papermill": {
     "duration": 0.042741,
     "end_time": "2023-10-16T06:41:15.558320",
     "exception": false,
     "start_time": "2023-10-16T06:41:15.515579",
     "status": "completed"
    },
    "tags": []
   },
   "outputs": [
    {
     "data": {
      "text/html": [
       "<div>\n",
       "<style scoped>\n",
       "    .dataframe tbody tr th:only-of-type {\n",
       "        vertical-align: middle;\n",
       "    }\n",
       "\n",
       "    .dataframe tbody tr th {\n",
       "        vertical-align: top;\n",
       "    }\n",
       "\n",
       "    .dataframe thead th {\n",
       "        text-align: right;\n",
       "    }\n",
       "</style>\n",
       "<table border=\"1\" class=\"dataframe\">\n",
       "  <thead>\n",
       "    <tr style=\"text-align: right;\">\n",
       "      <th></th>\n",
       "      <th>loan_id</th>\n",
       "      <th>no_of_dependents</th>\n",
       "      <th>education</th>\n",
       "      <th>self_employed</th>\n",
       "      <th>income_annum</th>\n",
       "      <th>loan_amount</th>\n",
       "      <th>loan_term</th>\n",
       "      <th>cibil_score</th>\n",
       "      <th>residential_assets_value</th>\n",
       "      <th>commercial_assets_value</th>\n",
       "      <th>luxury_assets_value</th>\n",
       "      <th>bank_asset_value</th>\n",
       "      <th>loan_status</th>\n",
       "      <th>cibil_rating</th>\n",
       "      <th>income_level</th>\n",
       "      <th>loan_rating</th>\n",
       "      <th>loanterm_type</th>\n",
       "      <th>Dependents_level</th>\n",
       "    </tr>\n",
       "  </thead>\n",
       "  <tbody>\n",
       "    <tr>\n",
       "      <th>0</th>\n",
       "      <td>1</td>\n",
       "      <td>2</td>\n",
       "      <td>Graduate</td>\n",
       "      <td>No</td>\n",
       "      <td>9600000</td>\n",
       "      <td>29900000</td>\n",
       "      <td>12</td>\n",
       "      <td>778</td>\n",
       "      <td>2400000</td>\n",
       "      <td>17600000</td>\n",
       "      <td>22700000</td>\n",
       "      <td>8000000</td>\n",
       "      <td>Approved</td>\n",
       "      <td>Excellent</td>\n",
       "      <td>High</td>\n",
       "      <td>diamond</td>\n",
       "      <td>intermediate</td>\n",
       "      <td>Moderate</td>\n",
       "    </tr>\n",
       "    <tr>\n",
       "      <th>1</th>\n",
       "      <td>2</td>\n",
       "      <td>0</td>\n",
       "      <td>Not Graduate</td>\n",
       "      <td>Yes</td>\n",
       "      <td>4100000</td>\n",
       "      <td>12200000</td>\n",
       "      <td>8</td>\n",
       "      <td>417</td>\n",
       "      <td>2700000</td>\n",
       "      <td>2200000</td>\n",
       "      <td>8800000</td>\n",
       "      <td>3300000</td>\n",
       "      <td>Rejected</td>\n",
       "      <td>Poor</td>\n",
       "      <td>Upper Middle</td>\n",
       "      <td>Platinum</td>\n",
       "      <td>intermediate</td>\n",
       "      <td>low</td>\n",
       "    </tr>\n",
       "    <tr>\n",
       "      <th>2</th>\n",
       "      <td>3</td>\n",
       "      <td>3</td>\n",
       "      <td>Graduate</td>\n",
       "      <td>No</td>\n",
       "      <td>9100000</td>\n",
       "      <td>29700000</td>\n",
       "      <td>20</td>\n",
       "      <td>506</td>\n",
       "      <td>7100000</td>\n",
       "      <td>4500000</td>\n",
       "      <td>33300000</td>\n",
       "      <td>12800000</td>\n",
       "      <td>Rejected</td>\n",
       "      <td>Poor</td>\n",
       "      <td>High</td>\n",
       "      <td>diamond</td>\n",
       "      <td>long term</td>\n",
       "      <td>Moderate</td>\n",
       "    </tr>\n",
       "    <tr>\n",
       "      <th>3</th>\n",
       "      <td>4</td>\n",
       "      <td>3</td>\n",
       "      <td>Graduate</td>\n",
       "      <td>No</td>\n",
       "      <td>8200000</td>\n",
       "      <td>30700000</td>\n",
       "      <td>8</td>\n",
       "      <td>467</td>\n",
       "      <td>18200000</td>\n",
       "      <td>3300000</td>\n",
       "      <td>23300000</td>\n",
       "      <td>7900000</td>\n",
       "      <td>Rejected</td>\n",
       "      <td>Poor</td>\n",
       "      <td>High</td>\n",
       "      <td>diamond</td>\n",
       "      <td>intermediate</td>\n",
       "      <td>Moderate</td>\n",
       "    </tr>\n",
       "    <tr>\n",
       "      <th>4</th>\n",
       "      <td>5</td>\n",
       "      <td>5</td>\n",
       "      <td>Not Graduate</td>\n",
       "      <td>Yes</td>\n",
       "      <td>9800000</td>\n",
       "      <td>24200000</td>\n",
       "      <td>20</td>\n",
       "      <td>382</td>\n",
       "      <td>12400000</td>\n",
       "      <td>8200000</td>\n",
       "      <td>29400000</td>\n",
       "      <td>5000000</td>\n",
       "      <td>Rejected</td>\n",
       "      <td>Poor</td>\n",
       "      <td>High</td>\n",
       "      <td>diamond</td>\n",
       "      <td>long term</td>\n",
       "      <td>high</td>\n",
       "    </tr>\n",
       "  </tbody>\n",
       "</table>\n",
       "</div>"
      ],
      "text/plain": [
       "   loan_id  no_of_dependents      education self_employed  income_annum  \\\n",
       "0        1                 2       Graduate            No       9600000   \n",
       "1        2                 0   Not Graduate           Yes       4100000   \n",
       "2        3                 3       Graduate            No       9100000   \n",
       "3        4                 3       Graduate            No       8200000   \n",
       "4        5                 5   Not Graduate           Yes       9800000   \n",
       "\n",
       "   loan_amount  loan_term  cibil_score  residential_assets_value  \\\n",
       "0     29900000         12          778                   2400000   \n",
       "1     12200000          8          417                   2700000   \n",
       "2     29700000         20          506                   7100000   \n",
       "3     30700000          8          467                  18200000   \n",
       "4     24200000         20          382                  12400000   \n",
       "\n",
       "   commercial_assets_value  luxury_assets_value  bank_asset_value loan_status  \\\n",
       "0                 17600000             22700000           8000000    Approved   \n",
       "1                  2200000              8800000           3300000    Rejected   \n",
       "2                  4500000             33300000          12800000    Rejected   \n",
       "3                  3300000             23300000           7900000    Rejected   \n",
       "4                  8200000             29400000           5000000    Rejected   \n",
       "\n",
       "  cibil_rating  income_level loan_rating loanterm_type Dependents_level  \n",
       "0    Excellent          High     diamond  intermediate         Moderate  \n",
       "1         Poor  Upper Middle    Platinum  intermediate              low  \n",
       "2         Poor          High     diamond     long term         Moderate  \n",
       "3         Poor          High     diamond  intermediate         Moderate  \n",
       "4         Poor          High     diamond     long term             high  "
      ]
     },
     "execution_count": 49,
     "metadata": {},
     "output_type": "execute_result"
    }
   ],
   "source": [
    "df[:5]"
   ]
  },
  {
   "cell_type": "code",
   "execution_count": 50,
   "id": "0df29371",
   "metadata": {
    "execution": {
     "iopub.execute_input": "2023-10-16T06:41:15.595406Z",
     "iopub.status.busy": "2023-10-16T06:41:15.594761Z",
     "iopub.status.idle": "2023-10-16T06:41:15.610906Z",
     "shell.execute_reply": "2023-10-16T06:41:15.610118Z"
    },
    "papermill": {
     "duration": 0.037714,
     "end_time": "2023-10-16T06:41:15.613720",
     "exception": false,
     "start_time": "2023-10-16T06:41:15.576006",
     "status": "completed"
    },
    "tags": []
   },
   "outputs": [
    {
     "data": {
      "text/html": [
       "<div>\n",
       "<style scoped>\n",
       "    .dataframe tbody tr th:only-of-type {\n",
       "        vertical-align: middle;\n",
       "    }\n",
       "\n",
       "    .dataframe tbody tr th {\n",
       "        vertical-align: top;\n",
       "    }\n",
       "\n",
       "    .dataframe thead th {\n",
       "        text-align: right;\n",
       "    }\n",
       "</style>\n",
       "<table border=\"1\" class=\"dataframe\">\n",
       "  <thead>\n",
       "    <tr style=\"text-align: right;\">\n",
       "      <th>cibil_rating</th>\n",
       "      <th>Averge</th>\n",
       "      <th>Excellent</th>\n",
       "      <th>Good</th>\n",
       "      <th>Poor</th>\n",
       "    </tr>\n",
       "    <tr>\n",
       "      <th>loan_status</th>\n",
       "      <th></th>\n",
       "      <th></th>\n",
       "      <th></th>\n",
       "      <th></th>\n",
       "    </tr>\n",
       "  </thead>\n",
       "  <tbody>\n",
       "    <tr>\n",
       "      <th>Approved</th>\n",
       "      <td>0.997072</td>\n",
       "      <td>0.994318</td>\n",
       "      <td>0.993289</td>\n",
       "      <td>0.103641</td>\n",
       "    </tr>\n",
       "    <tr>\n",
       "      <th>Rejected</th>\n",
       "      <td>0.002928</td>\n",
       "      <td>0.005682</td>\n",
       "      <td>0.006711</td>\n",
       "      <td>0.896359</td>\n",
       "    </tr>\n",
       "  </tbody>\n",
       "</table>\n",
       "</div>"
      ],
      "text/plain": [
       "cibil_rating    Averge  Excellent      Good      Poor\n",
       "loan_status                                          \n",
       " Approved     0.997072   0.994318  0.993289  0.103641\n",
       " Rejected     0.002928   0.005682  0.006711  0.896359"
      ]
     },
     "execution_count": 50,
     "metadata": {},
     "output_type": "execute_result"
    }
   ],
   "source": [
    "#loan by civi score\n",
    "cibil_rating = df.groupby(['cibil_rating','loan_status']).size().reset_index()\n",
    "pivotable_cibil = cibil_rating.pivot(index='loan_status',columns='cibil_rating',values=0)\n",
    "pivotable_cibil\n",
    "rawtoatal_cibil =  pivotable_cibil.sum()\n",
    "percentage_cibil = pivotable_cibil.div(rawtoatal_cibil)\n",
    "percentage_cibil"
   ]
  },
  {
   "cell_type": "code",
   "execution_count": 51,
   "id": "8f136e17",
   "metadata": {
    "execution": {
     "iopub.execute_input": "2023-10-16T06:41:15.653444Z",
     "iopub.status.busy": "2023-10-16T06:41:15.652745Z",
     "iopub.status.idle": "2023-10-16T06:41:15.956859Z",
     "shell.execute_reply": "2023-10-16T06:41:15.955802Z"
    },
    "papermill": {
     "duration": 0.325742,
     "end_time": "2023-10-16T06:41:15.959268",
     "exception": false,
     "start_time": "2023-10-16T06:41:15.633526",
     "status": "completed"
    },
    "tags": []
   },
   "outputs": [
    {
     "data": {
      "text/plain": [
       "<Axes: xlabel='cibil_rating', ylabel='loan_status'>"
      ]
     },
     "execution_count": 51,
     "metadata": {},
     "output_type": "execute_result"
    },
    {
     "data": {
      "image/png": "[encoded data removed]",
      "text/plain": [
       "<Figure size 640x480 with 2 Axes>"
      ]
     },
     "metadata": {},
     "output_type": "display_data"
    }
   ],
   "source": [
    "sns.heatmap(percentage_cibil,annot=True,cmap='coolwarm',fmt='.2f')"
   ]
  },
  {
   "cell_type": "code",
   "execution_count": 52,
   "id": "fd733d46",
   "metadata": {
    "execution": {
     "iopub.execute_input": "2023-10-16T06:41:15.996903Z",
     "iopub.status.busy": "2023-10-16T06:41:15.996513Z",
     "iopub.status.idle": "2023-10-16T06:41:16.636837Z",
     "shell.execute_reply": "2023-10-16T06:41:16.635713Z"
    },
    "papermill": {
     "duration": 0.66248,
     "end_time": "2023-10-16T06:41:16.639828",
     "exception": false,
     "start_time": "2023-10-16T06:41:15.977348",
     "status": "completed"
    },
    "tags": []
   },
   "outputs": [
    {
     "data": {
      "text/plain": [
       "<Axes: >"
      ]
     },
     "execution_count": 52,
     "metadata": {},
     "output_type": "execute_result"
    },
    {
     "data": {
      "image/png": "[encoded data removed]",
      "text/plain": [
       "<Figure size 1000x700 with 2 Axes>"
      ]
     },
     "metadata": {},
     "output_type": "display_data"
    }
   ],
   "source": [
    "plt.figure(figsize=(10,7))\n",
    "sns.heatmap(df.corr(numeric_only=True),vmax=True,annot=True,cmap='coolwarm',fmt='.1f')"
   ]
  },
  {
   "cell_type": "code",
   "execution_count": 53,
   "id": "2d89fb52",
   "metadata": {
    "execution": {
     "iopub.execute_input": "2023-10-16T06:41:16.682976Z",
     "iopub.status.busy": "2023-10-16T06:41:16.682230Z",
     "iopub.status.idle": "2023-10-16T06:41:16.696403Z",
     "shell.execute_reply": "2023-10-16T06:41:16.695708Z"
    },
    "papermill": {
     "duration": 0.037352,
     "end_time": "2023-10-16T06:41:16.698188",
     "exception": false,
     "start_time": "2023-10-16T06:41:16.660836",
     "status": "completed"
    },
    "tags": []
   },
   "outputs": [
    {
     "data": {
      "text/html": [
       "<div>\n",
       "<style scoped>\n",
       "    .dataframe tbody tr th:only-of-type {\n",
       "        vertical-align: middle;\n",
       "    }\n",
       "\n",
       "    .dataframe tbody tr th {\n",
       "        vertical-align: top;\n",
       "    }\n",
       "\n",
       "    .dataframe thead th {\n",
       "        text-align: right;\n",
       "    }\n",
       "</style>\n",
       "<table border=\"1\" class=\"dataframe\">\n",
       "  <thead>\n",
       "    <tr style=\"text-align: right;\">\n",
       "      <th></th>\n",
       "      <th>loan_id</th>\n",
       "      <th>no_of_dependents</th>\n",
       "      <th>income_annum</th>\n",
       "      <th>loan_amount</th>\n",
       "      <th>loan_term</th>\n",
       "      <th>cibil_score</th>\n",
       "      <th>residential_assets_value</th>\n",
       "      <th>commercial_assets_value</th>\n",
       "      <th>luxury_assets_value</th>\n",
       "      <th>bank_asset_value</th>\n",
       "    </tr>\n",
       "  </thead>\n",
       "  <tbody>\n",
       "    <tr>\n",
       "      <th>0</th>\n",
       "      <td>1</td>\n",
       "      <td>2</td>\n",
       "      <td>9600000</td>\n",
       "      <td>29900000</td>\n",
       "      <td>12</td>\n",
       "      <td>778</td>\n",
       "      <td>2400000</td>\n",
       "      <td>17600000</td>\n",
       "      <td>22700000</td>\n",
       "      <td>8000000</td>\n",
       "    </tr>\n",
       "    <tr>\n",
       "      <th>1</th>\n",
       "      <td>2</td>\n",
       "      <td>0</td>\n",
       "      <td>4100000</td>\n",
       "      <td>12200000</td>\n",
       "      <td>8</td>\n",
       "      <td>417</td>\n",
       "      <td>2700000</td>\n",
       "      <td>2200000</td>\n",
       "      <td>8800000</td>\n",
       "      <td>3300000</td>\n",
       "    </tr>\n",
       "    <tr>\n",
       "      <th>2</th>\n",
       "      <td>3</td>\n",
       "      <td>3</td>\n",
       "      <td>9100000</td>\n",
       "      <td>29700000</td>\n",
       "      <td>20</td>\n",
       "      <td>506</td>\n",
       "      <td>7100000</td>\n",
       "      <td>4500000</td>\n",
       "      <td>33300000</td>\n",
       "      <td>12800000</td>\n",
       "    </tr>\n",
       "    <tr>\n",
       "      <th>3</th>\n",
       "      <td>4</td>\n",
       "      <td>3</td>\n",
       "      <td>8200000</td>\n",
       "      <td>30700000</td>\n",
       "      <td>8</td>\n",
       "      <td>467</td>\n",
       "      <td>18200000</td>\n",
       "      <td>3300000</td>\n",
       "      <td>23300000</td>\n",
       "      <td>7900000</td>\n",
       "    </tr>\n",
       "    <tr>\n",
       "      <th>4</th>\n",
       "      <td>5</td>\n",
       "      <td>5</td>\n",
       "      <td>9800000</td>\n",
       "      <td>24200000</td>\n",
       "      <td>20</td>\n",
       "      <td>382</td>\n",
       "      <td>12400000</td>\n",
       "      <td>8200000</td>\n",
       "      <td>29400000</td>\n",
       "      <td>5000000</td>\n",
       "    </tr>\n",
       "    <tr>\n",
       "      <th>...</th>\n",
       "      <td>...</td>\n",
       "      <td>...</td>\n",
       "      <td>...</td>\n",
       "      <td>...</td>\n",
       "      <td>...</td>\n",
       "      <td>...</td>\n",
       "      <td>...</td>\n",
       "      <td>...</td>\n",
       "      <td>...</td>\n",
       "      <td>...</td>\n",
       "    </tr>\n",
       "    <tr>\n",
       "      <th>4264</th>\n",
       "      <td>4265</td>\n",
       "      <td>5</td>\n",
       "      <td>1000000</td>\n",
       "      <td>2300000</td>\n",
       "      <td>12</td>\n",
       "      <td>317</td>\n",
       "      <td>2800000</td>\n",
       "      <td>500000</td>\n",
       "      <td>3300000</td>\n",
       "      <td>800000</td>\n",
       "    </tr>\n",
       "    <tr>\n",
       "      <th>4265</th>\n",
       "      <td>4266</td>\n",
       "      <td>0</td>\n",
       "      <td>3300000</td>\n",
       "      <td>11300000</td>\n",
       "      <td>20</td>\n",
       "      <td>559</td>\n",
       "      <td>4200000</td>\n",
       "      <td>2900000</td>\n",
       "      <td>11000000</td>\n",
       "      <td>1900000</td>\n",
       "    </tr>\n",
       "    <tr>\n",
       "      <th>4266</th>\n",
       "      <td>4267</td>\n",
       "      <td>2</td>\n",
       "      <td>6500000</td>\n",
       "      <td>23900000</td>\n",
       "      <td>18</td>\n",
       "      <td>457</td>\n",
       "      <td>1200000</td>\n",
       "      <td>12400000</td>\n",
       "      <td>18100000</td>\n",
       "      <td>7300000</td>\n",
       "    </tr>\n",
       "    <tr>\n",
       "      <th>4267</th>\n",
       "      <td>4268</td>\n",
       "      <td>1</td>\n",
       "      <td>4100000</td>\n",
       "      <td>12800000</td>\n",
       "      <td>8</td>\n",
       "      <td>780</td>\n",
       "      <td>8200000</td>\n",
       "      <td>700000</td>\n",
       "      <td>14100000</td>\n",
       "      <td>5800000</td>\n",
       "    </tr>\n",
       "    <tr>\n",
       "      <th>4268</th>\n",
       "      <td>4269</td>\n",
       "      <td>1</td>\n",
       "      <td>9200000</td>\n",
       "      <td>29700000</td>\n",
       "      <td>10</td>\n",
       "      <td>607</td>\n",
       "      <td>17800000</td>\n",
       "      <td>11800000</td>\n",
       "      <td>35700000</td>\n",
       "      <td>12000000</td>\n",
       "    </tr>\n",
       "  </tbody>\n",
       "</table>\n",
       "<p>4269 rows × 10 columns</p>\n",
       "</div>"
      ],
      "text/plain": [
       "      loan_id  no_of_dependents  income_annum  loan_amount  loan_term  \\\n",
       "0           1                 2       9600000     29900000         12   \n",
       "1           2                 0       4100000     12200000          8   \n",
       "2           3                 3       9100000     29700000         20   \n",
       "3           4                 3       8200000     30700000          8   \n",
       "4           5                 5       9800000     24200000         20   \n",
       "...       ...               ...           ...          ...        ...   \n",
       "4264     4265                 5       1000000      2300000         12   \n",
       "4265     4266                 0       3300000     11300000         20   \n",
       "4266     4267                 2       6500000     23900000         18   \n",
       "4267     4268                 1       4100000     12800000          8   \n",
       "4268     4269                 1       9200000     29700000         10   \n",
       "\n",
       "      cibil_score  residential_assets_value  commercial_assets_value  \\\n",
       "0             778                   2400000                 17600000   \n",
       "1             417                   2700000                  2200000   \n",
       "2             506                   7100000                  4500000   \n",
       "3             467                  18200000                  3300000   \n",
       "4             382                  12400000                  8200000   \n",
       "...           ...                       ...                      ...   \n",
       "4264          317                   2800000                   500000   \n",
       "4265          559                   4200000                  2900000   \n",
       "4266          457                   1200000                 12400000   \n",
       "4267          780                   8200000                   700000   \n",
       "4268          607                  17800000                 11800000   \n",
       "\n",
       "      luxury_assets_value  bank_asset_value  \n",
       "0                22700000           8000000  \n",
       "1                 8800000           3300000  \n",
       "2                33300000          12800000  \n",
       "3                23300000           7900000  \n",
       "4                29400000           5000000  \n",
       "...                   ...               ...  \n",
       "4264              3300000            800000  \n",
       "4265             11000000           1900000  \n",
       "4266             18100000           7300000  \n",
       "4267             14100000           5800000  \n",
       "4268             35700000          12000000  \n",
       "\n",
       "[4269 rows x 10 columns]"
      ]
     },
     "execution_count": 53,
     "metadata": {},
     "output_type": "execute_result"
    }
   ],
   "source": [
    "df.select_dtypes('int')"
   ]
  },
  {
   "cell_type": "code",
   "execution_count": 54,
   "id": "30d41d6b",
   "metadata": {
    "execution": {
     "iopub.execute_input": "2023-10-16T06:41:16.741540Z",
     "iopub.status.busy": "2023-10-16T06:41:16.740356Z",
     "iopub.status.idle": "2023-10-16T06:41:16.745755Z",
     "shell.execute_reply": "2023-10-16T06:41:16.744706Z"
    },
    "papermill": {
     "duration": 0.029027,
     "end_time": "2023-10-16T06:41:16.747890",
     "exception": false,
     "start_time": "2023-10-16T06:41:16.718863",
     "status": "completed"
    },
    "tags": []
   },
   "outputs": [],
   "source": [
    "asset = ['residential_assets_value','commercial_assets_value','luxury_assets_value','bank_asset_value']\n",
    "income= 'income_annum'"
   ]
  },
  {
   "cell_type": "code",
   "execution_count": 55,
   "id": "76189de2",
   "metadata": {
    "execution": {
     "iopub.execute_input": "2023-10-16T06:41:16.800147Z",
     "iopub.status.busy": "2023-10-16T06:41:16.799493Z",
     "iopub.status.idle": "2023-10-16T06:41:16.817406Z",
     "shell.execute_reply": "2023-10-16T06:41:16.816516Z"
    },
    "papermill": {
     "duration": 0.051753,
     "end_time": "2023-10-16T06:41:16.819875",
     "exception": false,
     "start_time": "2023-10-16T06:41:16.768122",
     "status": "completed"
    },
    "tags": []
   },
   "outputs": [
    {
     "data": {
      "text/html": [
       "<div>\n",
       "<style scoped>\n",
       "    .dataframe tbody tr th:only-of-type {\n",
       "        vertical-align: middle;\n",
       "    }\n",
       "\n",
       "    .dataframe tbody tr th {\n",
       "        vertical-align: top;\n",
       "    }\n",
       "\n",
       "    .dataframe thead th {\n",
       "        text-align: right;\n",
       "    }\n",
       "</style>\n",
       "<table border=\"1\" class=\"dataframe\">\n",
       "  <thead>\n",
       "    <tr style=\"text-align: right;\">\n",
       "      <th></th>\n",
       "      <th>residential_assets_value</th>\n",
       "      <th>commercial_assets_value</th>\n",
       "      <th>luxury_assets_value</th>\n",
       "      <th>bank_asset_value</th>\n",
       "      <th>income_annum</th>\n",
       "    </tr>\n",
       "  </thead>\n",
       "  <tbody>\n",
       "    <tr>\n",
       "      <th>residential_assets_value</th>\n",
       "      <td>1.000000</td>\n",
       "      <td>0.414799</td>\n",
       "      <td>0.590919</td>\n",
       "      <td>0.527401</td>\n",
       "      <td>0.636824</td>\n",
       "    </tr>\n",
       "    <tr>\n",
       "      <th>commercial_assets_value</th>\n",
       "      <td>0.414799</td>\n",
       "      <td>1.000000</td>\n",
       "      <td>0.591128</td>\n",
       "      <td>0.548576</td>\n",
       "      <td>0.640328</td>\n",
       "    </tr>\n",
       "    <tr>\n",
       "      <th>luxury_assets_value</th>\n",
       "      <td>0.590919</td>\n",
       "      <td>0.591128</td>\n",
       "      <td>1.000000</td>\n",
       "      <td>0.788517</td>\n",
       "      <td>0.929145</td>\n",
       "    </tr>\n",
       "    <tr>\n",
       "      <th>bank_asset_value</th>\n",
       "      <td>0.527401</td>\n",
       "      <td>0.548576</td>\n",
       "      <td>0.788517</td>\n",
       "      <td>1.000000</td>\n",
       "      <td>0.851093</td>\n",
       "    </tr>\n",
       "    <tr>\n",
       "      <th>income_annum</th>\n",
       "      <td>0.636824</td>\n",
       "      <td>0.640328</td>\n",
       "      <td>0.929145</td>\n",
       "      <td>0.851093</td>\n",
       "      <td>1.000000</td>\n",
       "    </tr>\n",
       "  </tbody>\n",
       "</table>\n",
       "</div>"
      ],
      "text/plain": [
       "                          residential_assets_value  commercial_assets_value  \\\n",
       "residential_assets_value                  1.000000                 0.414799   \n",
       "commercial_assets_value                   0.414799                 1.000000   \n",
       "luxury_assets_value                       0.590919                 0.591128   \n",
       "bank_asset_value                          0.527401                 0.548576   \n",
       "income_annum                              0.636824                 0.640328   \n",
       "\n",
       "                          luxury_assets_value  bank_asset_value  income_annum  \n",
       "residential_assets_value             0.590919          0.527401      0.636824  \n",
       "commercial_assets_value              0.591128          0.548576      0.640328  \n",
       "luxury_assets_value                  1.000000          0.788517      0.929145  \n",
       "bank_asset_value                     0.788517          1.000000      0.851093  \n",
       "income_annum                         0.929145          0.851093      1.000000  "
      ]
     },
     "execution_count": 55,
     "metadata": {},
     "output_type": "execute_result"
    }
   ],
   "source": [
    "correlations = df[asset +[income]].corr()\n",
    "correlations"
   ]
  }
 ],
 "metadata": {
  "kernelspec": {
   "display_name": "Python 3",
   "language": "python",
   "name": "python3"
  },
  "language_info": {
   "codemirror_mode": {
    "name": "ipython",
    "version": 3
   },
   "file_extension": ".py",
   "mimetype": "text/x-python",
   "name": "python",
   "nbconvert_exporter": "python",
   "pygments_lexer": "ipython3",
   "version": "3.10.12"
  },
  "papermill": {
   "default_parameters": {},
   "duration": 10.553202,
   "end_time": "2023-10-16T06:41:17.470598",
   "environment_variables": {},
   "exception": null,
   "input_path": "__notebook__.ipynb",
   "output_path": "__notebook__.ipynb",
   "parameters": {},
   "start_time": "2023-10-16T06:41:06.917396",
   "version": "2.4.0"
  }
 },
 "nbformat": 4,
 "nbformat_minor": 5
}
